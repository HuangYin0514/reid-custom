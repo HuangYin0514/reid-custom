{
 "cells": [
  {
   "cell_type": "code",
   "execution_count": 1,
   "metadata": {},
   "outputs": [
    {
     "name": "stdout",
     "output_type": "stream",
     "text": [
      "/kaggle/working\n"
     ]
    }
   ],
   "source": [
    "cd /kaggle/working/"
   ]
  },
  {
   "cell_type": "code",
   "execution_count": 2,
   "metadata": {
    "_cell_guid": "79c7e3d0-c299-4dcb-8224-4455121ee9b0",
    "_uuid": "d629ff2d2480ee46fbb7e2d37f6b5fab8052498a"
   },
   "outputs": [
    {
     "name": "stdout",
     "output_type": "stream",
     "text": [
      "Cloning into 'reid-custom'...\r\n",
      "remote: Enumerating objects: 557, done.\u001b[K\r\n",
      "remote: Counting objects: 100% (557/557), done.\u001b[K\r\n",
      "remote: Compressing objects: 100% (347/347), done.\u001b[K\r\n",
      "remote: Total 557 (delta 286), reused 470 (delta 199), pack-reused 0\u001b[K\r\n",
      "Receiving objects: 100% (557/557), 1.12 MiB | 8.80 MiB/s, done.\r\n",
      "Resolving deltas: 100% (286/286), done.\r\n"
     ]
    }
   ],
   "source": [
    "!rm -rf reid-custom\n",
    "!git clone https://github.com/HuangYin0514/reid-custom.git"
   ]
  },
  {
   "cell_type": "code",
   "execution_count": 3,
   "metadata": {},
   "outputs": [
    {
     "name": "stdout",
     "output_type": "stream",
     "text": [
      "/kaggle/working/reid-custom\n"
     ]
    }
   ],
   "source": [
    "cd ./reid-custom/"
   ]
  },
  {
   "cell_type": "code",
   "execution_count": 4,
   "metadata": {},
   "outputs": [
    {
     "name": "stdout",
     "output_type": "stream",
     "text": [
      "Downloading: \"https://download.pytorch.org/models/resnet50-19c8e357.pth\" to /root/.cache/torch/checkpoints/resnet50-19c8e357.pth\r\n",
      "100%|██████████████████████████████████████| 97.8M/97.8M [00:01<00:00, 56.1MB/s]\r\n",
      "2020-05-18 05:53:09 ----------\r\n",
      "2020-05-18 05:53:09 {'nThread': 4, 'nGPU': 1, 'save_path': './experiments', 'experiment': 'PCB_p6', 'dataset': 'Market1501', 'dataset_path': '/kaggle/input/market1501/Market-1501-v15.09.15', 'height': 384, 'width': 128, 'batch_size': 64, 'share_conv': False, 'stripes': 6, 'epochs': 60, 'test_every': 10, 'lr': 0.1, 'lr_base': 0.01, 'decay_every': 20, 'gamma': 0.1}\r\n",
      "2020-05-18 05:53:09 Epoch 1/60\r\n",
      "2020-05-18 05:54:47 Training Loss: 28.9508\r\n",
      "2020-05-18 05:54:47 ----------\r\n",
      "2020-05-18 05:54:47 Epoch 2/60\r\n",
      "2020-05-18 05:56:24 Training Loss: 15.2905\r\n",
      "2020-05-18 05:56:24 ----------\r\n",
      "2020-05-18 05:56:24 Epoch 3/60\r\n",
      "2020-05-18 05:58:01 Training Loss: 9.4376\r\n",
      "2020-05-18 05:58:01 ----------\r\n",
      "2020-05-18 05:58:01 Epoch 4/60\r\n",
      "2020-05-18 05:59:38 Training Loss: 6.1789\r\n",
      "2020-05-18 05:59:38 ----------\r\n",
      "2020-05-18 05:59:38 Epoch 5/60\r\n",
      "2020-05-18 06:01:15 Training Loss: 4.3934\r\n",
      "2020-05-18 06:01:15 ----------\r\n",
      "2020-05-18 06:01:15 Epoch 6/60\r\n",
      "2020-05-18 06:03:17 Training Loss: 3.3074\r\n",
      "2020-05-18 06:03:17 ----------\r\n",
      "2020-05-18 06:03:17 Epoch 7/60\r\n",
      "2020-05-18 06:04:54 Training Loss: 2.3010\r\n",
      "2020-05-18 06:04:54 ----------\r\n",
      "2020-05-18 06:04:54 Epoch 8/60\r\n",
      "2020-05-18 06:06:31 Training Loss: 1.6940\r\n",
      "2020-05-18 06:06:31 ----------\r\n",
      "2020-05-18 06:06:31 Epoch 9/60\r\n",
      "2020-05-18 06:08:08 Training Loss: 1.0490\r\n",
      "2020-05-18 06:08:08 ----------\r\n",
      "2020-05-18 06:08:08 Epoch 10/60\r\n",
      "2020-05-18 06:09:45 Training Loss: 0.7933\r\n",
      "2020-05-18 06:09:45 ----------\r\n",
      "2020-05-18 06:09:45 Epoch 11/60\r\n",
      "2020-05-18 06:11:21 Training Loss: 0.6053\r\n",
      "2020-05-18 06:11:21 ----------\r\n",
      "2020-05-18 06:11:21 Epoch 12/60\r\n",
      "2020-05-18 06:12:58 Training Loss: 0.3891\r\n",
      "2020-05-18 06:12:58 ----------\r\n",
      "2020-05-18 06:12:58 Epoch 13/60\r\n",
      "2020-05-18 06:14:35 Training Loss: 0.4460\r\n",
      "2020-05-18 06:14:35 ----------\r\n",
      "2020-05-18 06:14:35 Epoch 14/60\r\n",
      "2020-05-18 06:16:12 Training Loss: 0.3897\r\n",
      "2020-05-18 06:16:12 ----------\r\n",
      "2020-05-18 06:16:12 Epoch 15/60\r\n",
      "2020-05-18 06:17:49 Training Loss: 0.2723\r\n",
      "2020-05-18 06:17:49 ----------\r\n",
      "2020-05-18 06:17:49 Epoch 16/60\r\n",
      "2020-05-18 06:19:25 Training Loss: 0.2661\r\n",
      "2020-05-18 06:19:25 ----------\r\n",
      "2020-05-18 06:19:25 Epoch 17/60\r\n",
      "2020-05-18 06:21:02 Training Loss: 0.3627\r\n",
      "2020-05-18 06:21:02 ----------\r\n",
      "2020-05-18 06:21:02 Epoch 18/60\r\n",
      "2020-05-18 06:22:39 Training Loss: 0.2898\r\n",
      "2020-05-18 06:22:39 ----------\r\n",
      "2020-05-18 06:22:39 Epoch 19/60\r\n",
      "2020-05-18 06:24:16 Training Loss: 0.3693\r\n",
      "2020-05-18 06:24:16 ----------\r\n",
      "2020-05-18 06:24:16 Epoch 20/60\r\n",
      "2020-05-18 06:25:53 Training Loss: 0.2801\r\n",
      "2020-05-18 06:27:57 Testing: top1:91.89 top5:96.82 top10:97.92 mAP:77.64\r\n",
      "2020-05-18 06:27:57 ----------\r\n",
      "2020-05-18 06:27:57 Epoch 21/60\r\n",
      "2020-05-18 06:29:34 Training Loss: 0.2150\r\n",
      "2020-05-18 06:29:34 ----------\r\n",
      "2020-05-18 06:29:34 Epoch 22/60\r\n",
      "2020-05-18 06:31:12 Training Loss: 0.2685\r\n",
      "2020-05-18 06:31:12 ----------\r\n",
      "2020-05-18 06:31:12 Epoch 23/60\r\n",
      "2020-05-18 06:32:49 Training Loss: 0.3037\r\n",
      "2020-05-18 06:32:49 ----------\r\n",
      "2020-05-18 06:32:49 Epoch 24/60\r\n",
      "2020-05-18 06:34:26 Training Loss: 0.3626\r\n",
      "2020-05-18 06:34:26 ----------\r\n",
      "2020-05-18 06:34:26 Epoch 25/60\r\n",
      "2020-05-18 06:36:04 Training Loss: 0.6311\r\n",
      "2020-05-18 06:36:04 ----------\r\n",
      "2020-05-18 06:36:04 Epoch 26/60\r\n",
      "2020-05-18 06:37:41 Training Loss: 0.6470\r\n",
      "2020-05-18 06:37:41 ----------\r\n",
      "2020-05-18 06:37:41 Epoch 27/60\r\n",
      "2020-05-18 06:39:18 Training Loss: 0.5819\r\n",
      "2020-05-18 06:39:18 ----------\r\n",
      "2020-05-18 06:39:18 Epoch 28/60\r\n",
      "2020-05-18 06:40:56 Training Loss: 0.6360\r\n",
      "2020-05-18 06:40:56 ----------\r\n",
      "2020-05-18 06:40:56 Epoch 29/60\r\n",
      "2020-05-18 06:42:33 Training Loss: 1.4371\r\n",
      "2020-05-18 06:42:33 ----------\r\n",
      "2020-05-18 06:42:33 Epoch 30/60\r\n",
      "2020-05-18 06:44:10 Training Loss: 1.5194\r\n",
      "2020-05-18 06:44:10 ----------\r\n",
      "2020-05-18 06:44:10 Epoch 31/60\r\n",
      "2020-05-18 06:45:48 Training Loss: 0.8254\r\n",
      "2020-05-18 06:45:48 ----------\r\n",
      "2020-05-18 06:45:48 Epoch 32/60\r\n",
      "2020-05-18 06:47:25 Training Loss: 0.6246\r\n",
      "2020-05-18 06:47:25 ----------\r\n",
      "2020-05-18 06:47:25 Epoch 33/60\r\n",
      "2020-05-18 06:49:02 Training Loss: 0.5113\r\n",
      "2020-05-18 06:49:02 ----------\r\n",
      "2020-05-18 06:49:02 Epoch 34/60\r\n",
      "2020-05-18 06:50:40 Training Loss: 0.2165\r\n",
      "2020-05-18 06:50:40 ----------\r\n",
      "2020-05-18 06:50:40 Epoch 35/60\r\n",
      "2020-05-18 06:52:17 Training Loss: 0.1944\r\n",
      "2020-05-18 06:52:17 ----------\r\n",
      "2020-05-18 06:52:17 Epoch 36/60\r\n",
      "2020-05-18 06:53:54 Training Loss: 0.2410\r\n",
      "2020-05-18 06:53:54 ----------\r\n",
      "2020-05-18 06:53:54 Epoch 37/60\r\n",
      "2020-05-18 06:55:32 Training Loss: 0.1692\r\n",
      "2020-05-18 06:55:32 ----------\r\n",
      "2020-05-18 06:55:32 Epoch 38/60\r\n",
      "2020-05-18 06:57:09 Training Loss: 0.1627\r\n",
      "2020-05-18 06:57:09 ----------\r\n",
      "2020-05-18 06:57:09 Epoch 39/60\r\n",
      "2020-05-18 06:58:47 Training Loss: 0.1941\r\n",
      "2020-05-18 06:58:47 ----------\r\n",
      "2020-05-18 06:58:47 Epoch 40/60\r\n",
      "2020-05-18 07:00:24 Training Loss: 0.1769\r\n",
      "2020-05-18 07:02:25 Testing: top1:90.86 top5:96.47 top10:97.74 mAP:75.54\r\n",
      "2020-05-18 07:02:25 ----------\r\n",
      "2020-05-18 07:02:25 Epoch 41/60\r\n",
      "2020-05-18 07:04:03 Training Loss: 0.1416\r\n",
      "2020-05-18 07:04:03 ----------\r\n",
      "2020-05-18 07:04:03 Epoch 42/60\r\n",
      "2020-05-18 07:05:40 Training Loss: 0.1253\r\n",
      "2020-05-18 07:05:40 ----------\r\n",
      "2020-05-18 07:05:40 Epoch 43/60\r\n",
      "2020-05-18 07:07:17 Training Loss: 0.1232\r\n",
      "2020-05-18 07:07:17 ----------\r\n",
      "2020-05-18 07:07:17 Epoch 44/60\r\n",
      "2020-05-18 07:08:55 Training Loss: 0.1254\r\n",
      "2020-05-18 07:08:55 ----------\r\n",
      "2020-05-18 07:08:55 Epoch 45/60\r\n",
      "2020-05-18 07:10:32 Training Loss: 0.1263\r\n",
      "2020-05-18 07:10:32 ----------\r\n",
      "2020-05-18 07:10:32 Epoch 46/60\r\n",
      "2020-05-18 07:12:10 Training Loss: 0.1275\r\n",
      "2020-05-18 07:12:10 ----------\r\n",
      "2020-05-18 07:12:10 Epoch 47/60\r\n",
      "2020-05-18 07:13:47 Training Loss: 0.1297\r\n",
      "2020-05-18 07:13:47 ----------\r\n",
      "2020-05-18 07:13:47 Epoch 48/60\r\n",
      "2020-05-18 07:15:25 Training Loss: 0.1338\r\n",
      "2020-05-18 07:15:25 ----------\r\n",
      "2020-05-18 07:15:25 Epoch 49/60\r\n",
      "2020-05-18 07:17:02 Training Loss: 0.1335\r\n",
      "2020-05-18 07:17:02 ----------\r\n",
      "2020-05-18 07:17:02 Epoch 50/60\r\n",
      "2020-05-18 07:18:40 Training Loss: 0.1341\r\n",
      "2020-05-18 07:18:40 ----------\r\n",
      "2020-05-18 07:18:40 Epoch 51/60\r\n",
      "2020-05-18 07:20:17 Training Loss: 0.1354\r\n",
      "2020-05-18 07:20:17 ----------\r\n",
      "2020-05-18 07:20:17 Epoch 52/60\r\n",
      "2020-05-18 07:21:55 Training Loss: 0.1386\r\n",
      "2020-05-18 07:21:55 ----------\r\n",
      "2020-05-18 07:21:55 Epoch 53/60\r\n",
      "2020-05-18 07:23:32 Training Loss: 0.1380\r\n",
      "2020-05-18 07:23:32 ----------\r\n",
      "2020-05-18 07:23:32 Epoch 54/60\r\n",
      "2020-05-18 07:25:10 Training Loss: 0.1384\r\n",
      "2020-05-18 07:25:10 ----------\r\n",
      "2020-05-18 07:25:10 Epoch 55/60\r\n",
      "2020-05-18 07:26:47 Training Loss: 0.1426\r\n",
      "2020-05-18 07:26:47 ----------\r\n",
      "2020-05-18 07:26:47 Epoch 56/60\r\n",
      "2020-05-18 07:28:24 Training Loss: 0.1483\r\n",
      "2020-05-18 07:28:24 ----------\r\n",
      "2020-05-18 07:28:24 Epoch 57/60\r\n",
      "2020-05-18 07:30:02 Training Loss: 0.1419\r\n",
      "2020-05-18 07:30:02 ----------\r\n",
      "2020-05-18 07:30:02 Epoch 58/60\r\n",
      "2020-05-18 07:31:39 Training Loss: 0.1423\r\n",
      "2020-05-18 07:31:39 ----------\r\n",
      "2020-05-18 07:31:39 Epoch 59/60\r\n",
      "2020-05-18 07:33:16 Training Loss: 0.1413\r\n",
      "2020-05-18 07:33:16 ----------\r\n",
      "2020-05-18 07:33:16 Epoch 60/60\r\n",
      "2020-05-18 07:34:53 Training Loss: 0.1393\r\n",
      "2020-05-18 07:36:50 Testing: top1:92.16 top5:97.27 top10:98.10 mAP:78.39\r\n",
      "2020-05-18 07:36:50 ----------\r\n",
      "2020-05-18 07:36:50 Training complete in 103m 41s\r\n"
     ]
    }
   ],
   "source": [
    "!python main.py \\\n",
    "--experiment=PCB_p6 \\\n",
    "--dataset_path=/kaggle/input/market1501/Market-1501-v15.09.15 \n",
    "# --epochs=1"
   ]
  },
  {
   "cell_type": "code",
   "execution_count": 5,
   "metadata": {},
   "outputs": [
    {
     "name": "stdout",
     "output_type": "stream",
     "text": [
      "2020-05-18 07:36:58 {'experiment': 'PCB_p6', 'save_path': './experiments', 'which_epoch': 'final', 'checkpoint': 'experiments/Market1501', 'dataset': 'Occluded_REID', 'dataset_path': '/kaggle/input/occluded-reid', 'batch_size': 512, 'share_conv': False}\r\n",
      "2020-05-18 07:37:12 Testing: top1:57.70 top5:73.10 top10:79.30 mAP:52.15\r\n"
     ]
    }
   ],
   "source": [
    "!python test.py \\\n",
    "    --dataset=Occluded_REID \\\n",
    "    --dataset_path=/kaggle/input/occluded-reid \\\n",
    "    --checkpoint=experiments/Market1501 "
   ]
  },
  {
   "cell_type": "markdown",
   "execution_count": null,
   "metadata": {},
   "source": [
    "# clean the result"
   ]
  },
  {
   "cell_type": "code",
   "execution_count": 6,
   "metadata": {},
   "outputs": [
    {
     "name": "stdout",
     "output_type": "stream",
     "text": [
      "/kaggle/working/reid-custom\r\n"
     ]
    }
   ],
   "source": [
    "!pwd"
   ]
  },
  {
   "cell_type": "code",
   "execution_count": 7,
   "metadata": {},
   "outputs": [],
   "source": [
    "# !tar zcf ../experiments.tar experiments\n",
    "# !rm -rf   experiments*  project_result*"
   ]
  }
 ],
 "metadata": {
  "kernelspec": {
   "display_name": "Python 3",
   "language": "python",
   "name": "python3"
  },
  "language_info": {
   "codemirror_mode": {
    "name": "ipython",
    "version": 3
   },
   "file_extension": ".py",
   "mimetype": "text/x-python",
   "name": "python",
   "nbconvert_exporter": "python",
   "pygments_lexer": "ipython3",
   "version": "3.7.6"
  }
 },
 "nbformat": 4,
 "nbformat_minor": 4
}
