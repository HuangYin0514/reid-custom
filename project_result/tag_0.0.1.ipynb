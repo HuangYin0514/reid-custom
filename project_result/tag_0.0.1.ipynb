{
 "cells": [
  {
   "cell_type": "code",
   "execution_count": 1,
   "metadata": {},
   "outputs": [
    {
     "name": "stdout",
     "output_type": "stream",
     "text": [
      "/kaggle/working\n"
     ]
    }
   ],
   "source": [
    "cd /kaggle/working/"
   ]
  },
  {
   "cell_type": "code",
   "execution_count": 2,
   "metadata": {
    "_cell_guid": "79c7e3d0-c299-4dcb-8224-4455121ee9b0",
    "_uuid": "d629ff2d2480ee46fbb7e2d37f6b5fab8052498a"
   },
   "outputs": [
    {
     "name": "stdout",
     "output_type": "stream",
     "text": [
      "Cloning into 'pcb_custom'...\r\n",
      "remote: Enumerating objects: 104, done.\u001b[K\r\n",
      "remote: Counting objects: 100% (104/104), done.\u001b[K\r\n",
      "remote: Compressing objects: 100% (73/73), done.\u001b[K\r\n",
      "remote: Total 104 (delta 46), reused 82 (delta 24), pack-reused 0\u001b[K\r\n",
      "Receiving objects: 100% (104/104), 25.48 KiB | 8.49 MiB/s, done.\r\n",
      "Resolving deltas: 100% (46/46), done.\r\n"
     ]
    }
   ],
   "source": [
    "!rm -rf pcb_custom\n",
    "!git clone https://github.com/HuangYin0514/pcb_custom.git"
   ]
  },
  {
   "cell_type": "code",
   "execution_count": 3,
   "metadata": {},
   "outputs": [
    {
     "name": "stdout",
     "output_type": "stream",
     "text": [
      "/kaggle/working/pcb_custom\n"
     ]
    }
   ],
   "source": [
    "cd ./pcb_custom/"
   ]
  },
  {
   "cell_type": "code",
   "execution_count": 4,
   "metadata": {},
   "outputs": [],
   "source": [
    "!mkdir /kaggle/working/datasets/market1501 -p"
   ]
  },
  {
   "cell_type": "code",
   "execution_count": 5,
   "metadata": {},
   "outputs": [],
   "source": [
    "!python data_transform.py \\\n",
    "--src_root_path=/kaggle/input/market1501/Market-1501-v15.09.15  \\\n",
    "--dst_root_path=/kaggle/working/datasets/market1501"
   ]
  },
  {
   "cell_type": "code",
   "execution_count": 6,
   "metadata": {},
   "outputs": [
    {
     "name": "stdout",
     "output_type": "stream",
     "text": [
      "Namespace(batch_size=64, dataset='market1501', dataset_path='/kaggle/working/datasets/market1501', epochs=60, experiment='PCB_p6', learning_rate=0.1, save_path='./experiments', share_conv=False, stripes=6)\r\n",
      "Downloading: \"https://download.pytorch.org/models/resnet50-19c8e357.pth\" to /root/.cache/torch/checkpoints/resnet50-19c8e357.pth\r\n",
      "100%|██████████████████████████████████████| 97.8M/97.8M [00:01<00:00, 94.8MB/s]\r\n",
      "2020-05-07 04:44:55 ----------\r\n",
      "2020-05-07 04:44:55 {'experiment': 'PCB_p6', 'save_path': './experiments', 'dataset': 'market1501', 'dataset_path': '/kaggle/working/datasets/market1501', 'batch_size': 64, 'learning_rate': 0.1, 'epochs': 60, 'share_conv': False, 'stripes': 6}\r\n",
      "2020-05-07 04:44:55 Epoch 1/60\r\n",
      "2020-05-07 04:46:28 Training Loss: 29.2011\r\n",
      "2020-05-07 04:46:28 ----------\r\n",
      "2020-05-07 04:46:28 Epoch 2/60\r\n",
      "2020-05-07 04:48:00 Training Loss: 15.3899\r\n",
      "2020-05-07 04:48:00 ----------\r\n",
      "2020-05-07 04:48:00 Epoch 3/60\r\n",
      "2020-05-07 04:49:32 Training Loss: 9.5258\r\n",
      "2020-05-07 04:49:32 ----------\r\n",
      "2020-05-07 04:49:32 Epoch 4/60\r\n",
      "2020-05-07 04:51:04 Training Loss: 6.1695\r\n",
      "2020-05-07 04:51:04 ----------\r\n",
      "2020-05-07 04:51:04 Epoch 5/60\r\n",
      "2020-05-07 04:52:37 Training Loss: 4.1629\r\n",
      "2020-05-07 04:52:37 ----------\r\n",
      "2020-05-07 04:52:37 Epoch 6/60\r\n",
      "2020-05-07 04:54:09 Training Loss: 2.9476\r\n",
      "2020-05-07 04:54:09 ----------\r\n",
      "2020-05-07 04:54:09 Epoch 7/60\r\n",
      "2020-05-07 04:55:41 Training Loss: 2.0416\r\n",
      "2020-05-07 04:55:41 ----------\r\n",
      "2020-05-07 04:55:41 Epoch 8/60\r\n",
      "2020-05-07 04:57:13 Training Loss: 1.2915\r\n",
      "2020-05-07 04:57:13 ----------\r\n",
      "2020-05-07 04:57:13 Epoch 9/60\r\n",
      "2020-05-07 04:58:45 Training Loss: 0.8655\r\n",
      "2020-05-07 04:58:45 ----------\r\n",
      "2020-05-07 04:58:45 Epoch 10/60\r\n",
      "2020-05-07 05:00:17 Training Loss: 0.5458\r\n",
      "2020-05-07 05:00:17 ----------\r\n",
      "2020-05-07 05:00:17 Epoch 11/60\r\n",
      "2020-05-07 05:01:50 Training Loss: 0.3562\r\n",
      "2020-05-07 05:01:50 ----------\r\n",
      "2020-05-07 05:01:50 Epoch 12/60\r\n",
      "2020-05-07 05:03:22 Training Loss: 0.2744\r\n",
      "2020-05-07 05:03:22 ----------\r\n",
      "2020-05-07 05:03:22 Epoch 13/60\r\n",
      "2020-05-07 05:04:54 Training Loss: 0.2370\r\n",
      "2020-05-07 05:04:54 ----------\r\n",
      "2020-05-07 05:04:54 Epoch 14/60\r\n",
      "2020-05-07 05:06:26 Training Loss: 0.2338\r\n",
      "2020-05-07 05:06:26 ----------\r\n",
      "2020-05-07 05:06:26 Epoch 15/60\r\n",
      "2020-05-07 05:07:58 Training Loss: 0.2204\r\n",
      "2020-05-07 05:07:58 ----------\r\n",
      "2020-05-07 05:07:58 Epoch 16/60\r\n",
      "2020-05-07 05:09:30 Training Loss: 0.2140\r\n",
      "2020-05-07 05:09:30 ----------\r\n",
      "2020-05-07 05:09:30 Epoch 17/60\r\n",
      "2020-05-07 05:11:02 Training Loss: 0.2166\r\n",
      "2020-05-07 05:11:02 ----------\r\n",
      "2020-05-07 05:11:02 Epoch 18/60\r\n",
      "2020-05-07 05:12:34 Training Loss: 0.2198\r\n",
      "2020-05-07 05:12:34 ----------\r\n",
      "2020-05-07 05:12:34 Epoch 19/60\r\n",
      "2020-05-07 05:14:06 Training Loss: 0.2179\r\n",
      "2020-05-07 05:14:06 ----------\r\n",
      "2020-05-07 05:14:06 Epoch 20/60\r\n",
      "2020-05-07 05:15:38 Training Loss: 0.1888\r\n",
      "2020-05-07 05:18:07 Testing: top1:92.19 top5:96.70 top10:97.89 mAP:77.82\r\n",
      "2020-05-07 05:18:08 ----------\r\n",
      "2020-05-07 05:18:08 Epoch 21/60\r\n",
      "2020-05-07 05:19:40 Training Loss: 0.1834\r\n",
      "2020-05-07 05:19:40 ----------\r\n",
      "2020-05-07 05:19:40 Epoch 22/60\r\n",
      "2020-05-07 05:21:13 Training Loss: 0.1980\r\n",
      "2020-05-07 05:21:13 ----------\r\n",
      "2020-05-07 05:21:13 Epoch 23/60\r\n",
      "2020-05-07 05:22:45 Training Loss: 0.1836\r\n",
      "2020-05-07 05:22:45 ----------\r\n",
      "2020-05-07 05:22:45 Epoch 24/60\r\n",
      "2020-05-07 05:24:18 Training Loss: 0.1890\r\n",
      "2020-05-07 05:24:18 ----------\r\n",
      "2020-05-07 05:24:18 Epoch 25/60\r\n",
      "2020-05-07 05:25:50 Training Loss: 0.2844\r\n",
      "2020-05-07 05:25:50 ----------\r\n",
      "2020-05-07 05:25:50 Epoch 26/60\r\n",
      "2020-05-07 05:27:22 Training Loss: 0.7525\r\n",
      "2020-05-07 05:27:22 ----------\r\n",
      "2020-05-07 05:27:22 Epoch 27/60\r\n",
      "2020-05-07 05:28:55 Training Loss: 2.5459\r\n",
      "2020-05-07 05:28:55 ----------\r\n",
      "2020-05-07 05:28:55 Epoch 28/60\r\n",
      "2020-05-07 05:30:28 Training Loss: 2.9464\r\n",
      "2020-05-07 05:30:28 ----------\r\n",
      "2020-05-07 05:30:28 Epoch 29/60\r\n",
      "2020-05-07 05:32:00 Training Loss: 1.5240\r\n",
      "2020-05-07 05:32:00 ----------\r\n",
      "2020-05-07 05:32:00 Epoch 30/60\r\n",
      "2020-05-07 05:33:32 Training Loss: 0.6283\r\n",
      "2020-05-07 05:33:32 ----------\r\n",
      "2020-05-07 05:33:32 Epoch 31/60\r\n",
      "2020-05-07 05:35:04 Training Loss: 0.2683\r\n",
      "2020-05-07 05:35:04 ----------\r\n",
      "2020-05-07 05:35:04 Epoch 32/60\r\n",
      "2020-05-07 05:36:37 Training Loss: 0.1397\r\n",
      "2020-05-07 05:36:37 ----------\r\n",
      "2020-05-07 05:36:37 Epoch 33/60\r\n",
      "2020-05-07 05:38:09 Training Loss: 0.1455\r\n",
      "2020-05-07 05:38:09 ----------\r\n",
      "2020-05-07 05:38:09 Epoch 34/60\r\n",
      "2020-05-07 05:39:42 Training Loss: 0.1581\r\n",
      "2020-05-07 05:39:42 ----------\r\n",
      "2020-05-07 05:39:42 Epoch 35/60\r\n",
      "2020-05-07 05:41:14 Training Loss: 0.1646\r\n",
      "2020-05-07 05:41:14 ----------\r\n",
      "2020-05-07 05:41:14 Epoch 36/60\r\n",
      "2020-05-07 05:42:46 Training Loss: 0.1640\r\n",
      "2020-05-07 05:42:46 ----------\r\n",
      "2020-05-07 05:42:46 Epoch 37/60\r\n",
      "2020-05-07 05:44:18 Training Loss: 0.1647\r\n",
      "2020-05-07 05:44:18 ----------\r\n",
      "2020-05-07 05:44:18 Epoch 38/60\r\n",
      "2020-05-07 05:45:51 Training Loss: 0.1602\r\n",
      "2020-05-07 05:45:51 ----------\r\n",
      "2020-05-07 05:45:51 Epoch 39/60\r\n",
      "2020-05-07 05:47:23 Training Loss: 0.1599\r\n",
      "2020-05-07 05:47:23 ----------\r\n",
      "2020-05-07 05:47:23 Epoch 40/60\r\n",
      "2020-05-07 05:48:55 Training Loss: 0.1567\r\n",
      "2020-05-07 05:51:25 Testing: top1:92.28 top5:96.82 top10:97.77 mAP:78.06\r\n",
      "2020-05-07 05:51:25 ----------\r\n",
      "2020-05-07 05:51:25 Epoch 41/60\r\n",
      "2020-05-07 05:52:57 Training Loss: 0.1287\r\n",
      "2020-05-07 05:52:57 ----------\r\n",
      "2020-05-07 05:52:57 Epoch 42/60\r\n",
      "2020-05-07 05:54:30 Training Loss: 0.1229\r\n",
      "2020-05-07 05:54:30 ----------\r\n",
      "2020-05-07 05:54:30 Epoch 43/60\r\n",
      "2020-05-07 05:56:02 Training Loss: 0.1226\r\n",
      "2020-05-07 05:56:02 ----------\r\n",
      "2020-05-07 05:56:02 Epoch 44/60\r\n",
      "2020-05-07 05:57:34 Training Loss: 0.1229\r\n",
      "2020-05-07 05:57:34 ----------\r\n",
      "2020-05-07 05:57:34 Epoch 45/60\r\n",
      "2020-05-07 05:59:07 Training Loss: 0.1263\r\n",
      "2020-05-07 05:59:07 ----------\r\n",
      "2020-05-07 05:59:07 Epoch 46/60\r\n",
      "2020-05-07 06:00:39 Training Loss: 0.1258\r\n",
      "2020-05-07 06:00:39 ----------\r\n",
      "2020-05-07 06:00:39 Epoch 47/60\r\n",
      "2020-05-07 06:02:11 Training Loss: 0.1276\r\n",
      "2020-05-07 06:02:11 ----------\r\n",
      "2020-05-07 06:02:11 Epoch 48/60\r\n",
      "2020-05-07 06:03:44 Training Loss: 0.1287\r\n",
      "2020-05-07 06:03:44 ----------\r\n",
      "2020-05-07 06:03:44 Epoch 49/60\r\n",
      "2020-05-07 06:05:16 Training Loss: 0.1298\r\n",
      "2020-05-07 06:05:16 ----------\r\n",
      "2020-05-07 06:05:16 Epoch 50/60\r\n",
      "2020-05-07 06:06:49 Training Loss: 0.1310\r\n",
      "2020-05-07 06:06:49 ----------\r\n",
      "2020-05-07 06:06:49 Epoch 51/60\r\n",
      "2020-05-07 06:08:21 Training Loss: 0.1337\r\n",
      "2020-05-07 06:08:21 ----------\r\n",
      "2020-05-07 06:08:21 Epoch 52/60\r\n",
      "2020-05-07 06:09:54 Training Loss: 0.1336\r\n",
      "2020-05-07 06:09:54 ----------\r\n",
      "2020-05-07 06:09:54 Epoch 53/60\r\n",
      "2020-05-07 06:11:26 Training Loss: 0.1335\r\n",
      "2020-05-07 06:11:26 ----------\r\n",
      "2020-05-07 06:11:26 Epoch 54/60\r\n",
      "2020-05-07 06:12:59 Training Loss: 0.1337\r\n",
      "2020-05-07 06:12:59 ----------\r\n",
      "2020-05-07 06:12:59 Epoch 55/60\r\n",
      "2020-05-07 06:14:31 Training Loss: 0.1348\r\n",
      "2020-05-07 06:14:31 ----------\r\n",
      "2020-05-07 06:14:31 Epoch 56/60\r\n",
      "2020-05-07 06:16:03 Training Loss: 0.1352\r\n",
      "2020-05-07 06:16:03 ----------\r\n",
      "2020-05-07 06:16:03 Epoch 57/60\r\n",
      "2020-05-07 06:17:36 Training Loss: 0.1364\r\n",
      "2020-05-07 06:17:36 ----------\r\n",
      "2020-05-07 06:17:36 Epoch 58/60\r\n",
      "2020-05-07 06:19:08 Training Loss: 0.1364\r\n",
      "2020-05-07 06:19:08 ----------\r\n",
      "2020-05-07 06:19:08 Epoch 59/60\r\n",
      "2020-05-07 06:20:41 Training Loss: 0.1361\r\n",
      "2020-05-07 06:20:41 ----------\r\n",
      "2020-05-07 06:20:41 Epoch 60/60\r\n",
      "2020-05-07 06:22:13 Training Loss: 0.1357\r\n",
      "2020-05-07 06:24:44 Testing: top1:92.13 top5:96.88 top10:97.86 mAP:77.86\r\n",
      "2020-05-07 06:24:44 ----------\r\n",
      "2020-05-07 06:24:44 Training complete in 99m 50s\r\n"
     ]
    }
   ],
   "source": [
    "!python train.py \\\n",
    "--dataset_path=/kaggle/working/datasets/market1501 "
   ]
  },
  {
   "cell_type": "code",
   "execution_count": 7,
   "metadata": {},
   "outputs": [
    {
     "name": "stdout",
     "output_type": "stream",
     "text": [
      "/kaggle/working/pcb_custom\r\n"
     ]
    }
   ],
   "source": [
    "!pwd"
   ]
  },
  {
   "cell_type": "code",
   "execution_count": 8,
   "metadata": {},
   "outputs": [],
   "source": [
    "!tar zcf ../experiments.tar experiments"
   ]
  },
  {
   "cell_type": "code",
   "execution_count": 9,
   "metadata": {},
   "outputs": [
    {
     "name": "stdout",
     "output_type": "stream",
     "text": [
      "/kaggle/working\n"
     ]
    }
   ],
   "source": [
    "cd /kaggle/working"
   ]
  },
  {
   "cell_type": "code",
   "execution_count": 10,
   "metadata": {},
   "outputs": [],
   "source": [
    "!rm -rf dat*  pcb*"
   ]
  },
  {
   "cell_type": "code",
   "execution_count": null,
   "metadata": {},
   "outputs": [],
   "source": []
  }
 ],
 "metadata": {
  "kernelspec": {
   "display_name": "Python 3",
   "language": "python",
   "name": "python3"
  },
  "language_info": {
   "codemirror_mode": {
    "name": "ipython",
    "version": 3
   },
   "file_extension": ".py",
   "mimetype": "text/x-python",
   "name": "python",
   "nbconvert_exporter": "python",
   "pygments_lexer": "ipython3",
   "version": "3.7.6"
  }
 },
 "nbformat": 4,
 "nbformat_minor": 4
}
