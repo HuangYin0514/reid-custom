{
 "cells": [
  {
   "cell_type": "code",
   "execution_count": 1,
   "metadata": {},
   "outputs": [
    {
     "name": "stdout",
     "output_type": "stream",
     "text": [
      "/kaggle/working\n"
     ]
    }
   ],
   "source": [
    "cd /kaggle/working/"
   ]
  },
  {
   "cell_type": "code",
   "execution_count": 2,
   "metadata": {
    "_cell_guid": "79c7e3d0-c299-4dcb-8224-4455121ee9b0",
    "_uuid": "d629ff2d2480ee46fbb7e2d37f6b5fab8052498a"
   },
   "outputs": [
    {
     "name": "stdout",
     "output_type": "stream",
     "text": [
      "Cloning into 'pcb_custom'...\r\n",
      "remote: Enumerating objects: 125, done.\u001b[K\r\n",
      "remote: Counting objects: 100% (125/125), done.\u001b[K\r\n",
      "remote: Compressing objects: 100% (87/87), done.\u001b[K\r\n",
      "remote: Total 125 (delta 56), reused 98 (delta 29), pack-reused 0\u001b[K\r\n",
      "Receiving objects: 100% (125/125), 31.37 KiB | 698.00 KiB/s, done.\r\n",
      "Resolving deltas: 100% (56/56), done.\r\n"
     ]
    }
   ],
   "source": [
    "!rm -rf pcb_custom\n",
    "!git clone https://github.com/HuangYin0514/pcb_custom.git"
   ]
  },
  {
   "cell_type": "code",
   "execution_count": 3,
   "metadata": {},
   "outputs": [
    {
     "name": "stdout",
     "output_type": "stream",
     "text": [
      "/kaggle/working/pcb_custom\n"
     ]
    }
   ],
   "source": [
    "cd ./pcb_custom/"
   ]
  },
  {
   "cell_type": "code",
   "execution_count": 4,
   "metadata": {},
   "outputs": [],
   "source": [
    "!mkdir /kaggle/working/datasets/market1501 -p"
   ]
  },
  {
   "cell_type": "code",
   "execution_count": 5,
   "metadata": {},
   "outputs": [],
   "source": [
    "!python data_transform.py \\\n",
    "--src_root_path=/kaggle/input/market1501/Market-1501-v15.09.15  \\\n",
    "--dst_root_path=/kaggle/working/datasets/market1501"
   ]
  },
  {
   "cell_type": "code",
   "execution_count": 6,
   "metadata": {},
   "outputs": [
    {
     "name": "stdout",
     "output_type": "stream",
     "text": [
      "Namespace(batch_size=64, dataset='market1501', dataset_path='/kaggle/working/datasets/market1501', epochs=60, experiment='PCB_p6', learning_rate=0.1, save_path='./experiments', share_conv=False, stripes=6)\r\n",
      "Downloading: \"https://download.pytorch.org/models/resnet50-19c8e357.pth\" to /root/.cache/torch/checkpoints/resnet50-19c8e357.pth\r\n",
      "100%|███████████████████████████████████████| 97.8M/97.8M [00:00<00:00, 144MB/s]\r\n",
      "2020-05-07 18:48:50 ----------\r\n",
      "2020-05-07 18:48:50 {'experiment': 'PCB_p6', 'save_path': './experiments', 'dataset': 'market1501', 'dataset_path': '/kaggle/working/datasets/market1501', 'batch_size': 64, 'learning_rate': 0.1, 'epochs': 60, 'share_conv': False, 'stripes': 6}\r\n",
      "2020-05-07 18:48:50 Epoch 1/60\r\n",
      "2020-05-07 18:50:41 Training Loss: 29.2269\r\n",
      "2020-05-07 18:50:41 ----------\r\n",
      "2020-05-07 18:50:41 Epoch 2/60\r\n",
      "2020-05-07 18:52:30 Training Loss: 15.4681\r\n",
      "2020-05-07 18:52:30 ----------\r\n",
      "2020-05-07 18:52:30 Epoch 3/60\r\n",
      "2020-05-07 18:54:19 Training Loss: 9.6758\r\n",
      "2020-05-07 18:54:19 ----------\r\n",
      "2020-05-07 18:54:19 Epoch 4/60\r\n",
      "2020-05-07 18:56:07 Training Loss: 6.3000\r\n",
      "2020-05-07 18:56:07 ----------\r\n",
      "2020-05-07 18:56:07 Epoch 5/60\r\n",
      "2020-05-07 18:57:56 Training Loss: 4.3590\r\n",
      "2020-05-07 18:57:56 ----------\r\n",
      "2020-05-07 18:57:56 Epoch 6/60\r\n",
      "2020-05-07 18:59:45 Training Loss: 3.0229\r\n",
      "2020-05-07 18:59:45 ----------\r\n",
      "2020-05-07 18:59:45 Epoch 7/60\r\n",
      "2020-05-07 19:01:34 Training Loss: 2.0367\r\n",
      "2020-05-07 19:01:34 ----------\r\n",
      "2020-05-07 19:01:34 Epoch 8/60\r\n",
      "2020-05-07 19:03:24 Training Loss: 1.3374\r\n",
      "2020-05-07 19:03:24 ----------\r\n",
      "2020-05-07 19:03:24 Epoch 9/60\r\n",
      "2020-05-07 19:05:12 Training Loss: 0.8726\r\n",
      "2020-05-07 19:05:12 ----------\r\n",
      "2020-05-07 19:05:12 Epoch 10/60\r\n",
      "2020-05-07 19:07:02 Training Loss: 0.5686\r\n",
      "2020-05-07 19:07:02 ----------\r\n",
      "2020-05-07 19:07:02 Epoch 11/60\r\n",
      "2020-05-07 19:08:51 Training Loss: 0.3794\r\n",
      "2020-05-07 19:08:51 ----------\r\n",
      "2020-05-07 19:08:51 Epoch 12/60\r\n",
      "2020-05-07 19:10:40 Training Loss: 0.2977\r\n",
      "2020-05-07 19:10:40 ----------\r\n",
      "2020-05-07 19:10:40 Epoch 13/60\r\n",
      "2020-05-07 19:12:29 Training Loss: 0.2621\r\n",
      "2020-05-07 19:12:29 ----------\r\n",
      "2020-05-07 19:12:29 Epoch 14/60\r\n",
      "2020-05-07 19:14:17 Training Loss: 0.2417\r\n",
      "2020-05-07 19:14:17 ----------\r\n",
      "2020-05-07 19:14:17 Epoch 15/60\r\n",
      "2020-05-07 19:16:05 Training Loss: 0.2218\r\n",
      "2020-05-07 19:16:05 ----------\r\n",
      "2020-05-07 19:16:05 Epoch 16/60\r\n",
      "2020-05-07 19:17:54 Training Loss: 0.2191\r\n",
      "2020-05-07 19:17:54 ----------\r\n",
      "2020-05-07 19:17:54 Epoch 17/60\r\n",
      "2020-05-07 19:19:42 Training Loss: 0.2216\r\n",
      "2020-05-07 19:19:42 ----------\r\n",
      "2020-05-07 19:19:42 Epoch 18/60\r\n",
      "2020-05-07 19:21:31 Training Loss: 0.2205\r\n",
      "2020-05-07 19:21:31 ----------\r\n",
      "2020-05-07 19:21:31 Epoch 19/60\r\n",
      "2020-05-07 19:23:20 Training Loss: 0.2114\r\n",
      "2020-05-07 19:23:20 ----------\r\n",
      "2020-05-07 19:23:20 Epoch 20/60\r\n",
      "2020-05-07 19:25:09 Training Loss: 0.2017\r\n",
      "2020-05-07 19:27:27 Testing: top1:91.69 top5:96.79 top10:97.68 mAP:77.47\r\n",
      "2020-05-07 19:27:27 ----------\r\n",
      "2020-05-07 19:27:27 Epoch 21/60\r\n",
      "2020-05-07 19:29:16 Training Loss: 0.2034\r\n",
      "2020-05-07 19:29:16 ----------\r\n",
      "2020-05-07 19:29:16 Epoch 22/60\r\n",
      "2020-05-07 19:31:05 Training Loss: 0.2684\r\n",
      "2020-05-07 19:31:05 ----------\r\n",
      "2020-05-07 19:31:05 Epoch 23/60\r\n",
      "2020-05-07 19:32:56 Training Loss: 0.2863\r\n",
      "2020-05-07 19:32:56 ----------\r\n",
      "2020-05-07 19:32:56 Epoch 24/60\r\n",
      "2020-05-07 19:34:45 Training Loss: 0.2723\r\n",
      "2020-05-07 19:34:45 ----------\r\n",
      "2020-05-07 19:34:45 Epoch 25/60\r\n",
      "2020-05-07 19:36:34 Training Loss: 0.2367\r\n",
      "2020-05-07 19:36:34 ----------\r\n",
      "2020-05-07 19:36:34 Epoch 26/60\r\n",
      "2020-05-07 19:38:24 Training Loss: 0.2201\r\n",
      "2020-05-07 19:38:24 ----------\r\n",
      "2020-05-07 19:38:24 Epoch 27/60\r\n",
      "2020-05-07 19:40:13 Training Loss: 0.2336\r\n",
      "2020-05-07 19:40:13 ----------\r\n",
      "2020-05-07 19:40:13 Epoch 28/60\r\n",
      "2020-05-07 19:42:02 Training Loss: 0.1636\r\n",
      "2020-05-07 19:42:02 ----------\r\n",
      "2020-05-07 19:42:02 Epoch 29/60\r\n",
      "2020-05-07 19:43:51 Training Loss: 0.1500\r\n",
      "2020-05-07 19:43:51 ----------\r\n",
      "2020-05-07 19:43:51 Epoch 30/60\r\n",
      "2020-05-07 19:45:39 Training Loss: 0.1790\r\n",
      "2020-05-07 19:45:39 ----------\r\n",
      "2020-05-07 19:45:39 Epoch 31/60\r\n",
      "2020-05-07 19:47:28 Training Loss: 0.1876\r\n",
      "2020-05-07 19:47:28 ----------\r\n",
      "2020-05-07 19:47:28 Epoch 32/60\r\n",
      "2020-05-07 19:49:17 Training Loss: 0.1509\r\n",
      "2020-05-07 19:49:17 ----------\r\n",
      "2020-05-07 19:49:17 Epoch 33/60\r\n",
      "2020-05-07 19:51:05 Training Loss: 0.1744\r\n",
      "2020-05-07 19:51:05 ----------\r\n",
      "2020-05-07 19:51:05 Epoch 34/60\r\n",
      "2020-05-07 19:52:54 Training Loss: 0.3844\r\n",
      "2020-05-07 19:52:54 ----------\r\n",
      "2020-05-07 19:52:54 Epoch 35/60\r\n",
      "2020-05-07 19:54:44 Training Loss: 3.2815\r\n",
      "2020-05-07 19:54:44 ----------\r\n",
      "2020-05-07 19:54:44 Epoch 36/60\r\n",
      "2020-05-07 19:56:33 Training Loss: 4.4981\r\n",
      "2020-05-07 19:56:33 ----------\r\n",
      "2020-05-07 19:56:33 Epoch 37/60\r\n",
      "2020-05-07 19:58:22 Training Loss: 1.9947\r\n",
      "2020-05-07 19:58:22 ----------\r\n",
      "2020-05-07 19:58:22 Epoch 38/60\r\n",
      "2020-05-07 20:00:11 Training Loss: 0.8005\r\n",
      "2020-05-07 20:00:11 ----------\r\n",
      "2020-05-07 20:00:11 Epoch 39/60\r\n",
      "2020-05-07 20:02:01 Training Loss: 0.3330\r\n",
      "2020-05-07 20:02:01 ----------\r\n",
      "2020-05-07 20:02:01 Epoch 40/60\r\n",
      "2020-05-07 20:03:50 Training Loss: 0.1700\r\n",
      "2020-05-07 20:06:07 Testing: top1:91.21 top5:96.76 top10:97.80 mAP:76.22\r\n",
      "2020-05-07 20:06:08 ----------\r\n",
      "2020-05-07 20:06:08 Epoch 41/60\r\n",
      "2020-05-07 20:07:57 Training Loss: 0.1143\r\n",
      "2020-05-07 20:07:57 ----------\r\n",
      "2020-05-07 20:07:57 Epoch 42/60\r\n",
      "2020-05-07 20:09:47 Training Loss: 0.0994\r\n",
      "2020-05-07 20:09:47 ----------\r\n",
      "2020-05-07 20:09:47 Epoch 43/60\r\n",
      "2020-05-07 20:11:36 Training Loss: 0.0979\r\n",
      "2020-05-07 20:11:36 ----------\r\n",
      "2020-05-07 20:11:36 Epoch 44/60\r\n",
      "2020-05-07 20:13:26 Training Loss: 0.0987\r\n",
      "2020-05-07 20:13:26 ----------\r\n",
      "2020-05-07 20:13:26 Epoch 45/60\r\n",
      "2020-05-07 20:15:14 Training Loss: 0.1030\r\n",
      "2020-05-07 20:15:14 ----------\r\n",
      "2020-05-07 20:15:14 Epoch 46/60\r\n",
      "2020-05-07 20:17:02 Training Loss: 0.1041\r\n",
      "2020-05-07 20:17:02 ----------\r\n",
      "2020-05-07 20:17:02 Epoch 47/60\r\n",
      "2020-05-07 20:18:51 Training Loss: 0.1081\r\n",
      "2020-05-07 20:18:51 ----------\r\n",
      "2020-05-07 20:18:51 Epoch 48/60\r\n",
      "2020-05-07 20:20:40 Training Loss: 0.1106\r\n",
      "2020-05-07 20:20:40 ----------\r\n",
      "2020-05-07 20:20:40 Epoch 49/60\r\n",
      "2020-05-07 20:22:28 Training Loss: 0.1134\r\n",
      "2020-05-07 20:22:28 ----------\r\n",
      "2020-05-07 20:22:28 Epoch 50/60\r\n",
      "2020-05-07 20:24:16 Training Loss: 0.1168\r\n",
      "2020-05-07 20:24:16 ----------\r\n",
      "2020-05-07 20:24:16 Epoch 51/60\r\n",
      "2020-05-07 20:26:04 Training Loss: 0.1220\r\n",
      "2020-05-07 20:26:04 ----------\r\n",
      "2020-05-07 20:26:04 Epoch 52/60\r\n",
      "2020-05-07 20:27:52 Training Loss: 0.1237\r\n",
      "2020-05-07 20:27:52 ----------\r\n",
      "2020-05-07 20:27:52 Epoch 53/60\r\n",
      "2020-05-07 20:29:40 Training Loss: 0.1268\r\n",
      "2020-05-07 20:29:40 ----------\r\n",
      "2020-05-07 20:29:40 Epoch 54/60\r\n",
      "2020-05-07 20:31:29 Training Loss: 0.1286\r\n",
      "2020-05-07 20:31:29 ----------\r\n",
      "2020-05-07 20:31:29 Epoch 55/60\r\n",
      "2020-05-07 20:33:18 Training Loss: 0.1318\r\n",
      "2020-05-07 20:33:18 ----------\r\n",
      "2020-05-07 20:33:18 Epoch 56/60\r\n",
      "2020-05-07 20:35:07 Training Loss: 0.1337\r\n",
      "2020-05-07 20:35:07 ----------\r\n",
      "2020-05-07 20:35:07 Epoch 57/60\r\n",
      "2020-05-07 20:36:56 Training Loss: 0.1366\r\n",
      "2020-05-07 20:36:56 ----------\r\n",
      "2020-05-07 20:36:56 Epoch 58/60\r\n",
      "2020-05-07 20:38:44 Training Loss: 0.1392\r\n",
      "2020-05-07 20:38:44 ----------\r\n",
      "2020-05-07 20:38:44 Epoch 59/60\r\n",
      "2020-05-07 20:40:33 Training Loss: 0.1407\r\n",
      "2020-05-07 20:40:33 ----------\r\n",
      "2020-05-07 20:40:33 Epoch 60/60\r\n",
      "2020-05-07 20:42:21 Training Loss: 0.1412\r\n",
      "2020-05-07 20:44:34 Testing: top1:91.78 top5:96.88 top10:97.95 mAP:77.55\r\n",
      "2020-05-07 20:44:34 ----------\r\n",
      "2020-05-07 20:44:34 Training complete in 115m 44s\r\n"
     ]
    }
   ],
   "source": [
    "!python train_triplet.py \\\n",
    "--dataset_path=/kaggle/working/datasets/market1501 "
   ]
  },
  {
   "cell_type": "code",
   "execution_count": 7,
   "metadata": {},
   "outputs": [
    {
     "name": "stdout",
     "output_type": "stream",
     "text": [
      "/kaggle/working/pcb_custom\r\n"
     ]
    }
   ],
   "source": [
    "!pwd"
   ]
  },
  {
   "cell_type": "code",
   "execution_count": 8,
   "metadata": {},
   "outputs": [],
   "source": [
    "!tar zcf ../experiments.tar experiments"
   ]
  },
  {
   "cell_type": "code",
   "execution_count": 9,
   "metadata": {},
   "outputs": [
    {
     "name": "stdout",
     "output_type": "stream",
     "text": [
      "/kaggle/working\n"
     ]
    }
   ],
   "source": [
    "cd /kaggle/working"
   ]
  },
  {
   "cell_type": "code",
   "execution_count": 10,
   "metadata": {},
   "outputs": [],
   "source": [
    "!rm -rf dat*  pcb*"
   ]
  },
  {
   "cell_type": "code",
   "execution_count": null,
   "metadata": {},
   "outputs": [],
   "source": []
  }
 ],
 "metadata": {
  "kernelspec": {
   "display_name": "Python 3",
   "language": "python",
   "name": "python3"
  },
  "language_info": {
   "codemirror_mode": {
    "name": "ipython",
    "version": 3
   },
   "file_extension": ".py",
   "mimetype": "text/x-python",
   "name": "python",
   "nbconvert_exporter": "python",
   "pygments_lexer": "ipython3",
   "version": "3.7.6"
  }
 },
 "nbformat": 4,
 "nbformat_minor": 4
}
