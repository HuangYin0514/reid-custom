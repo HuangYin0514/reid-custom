{
 "cells": [
  {
   "cell_type": "code",
   "execution_count": 1,
   "metadata": {},
   "outputs": [
    {
     "name": "stdout",
     "output_type": "stream",
     "text": [
      "/kaggle/working\n"
     ]
    }
   ],
   "source": [
    "cd /kaggle/working/"
   ]
  },
  {
   "cell_type": "code",
   "execution_count": 2,
   "metadata": {
    "_cell_guid": "79c7e3d0-c299-4dcb-8224-4455121ee9b0",
    "_uuid": "d629ff2d2480ee46fbb7e2d37f6b5fab8052498a"
   },
   "outputs": [
    {
     "name": "stdout",
     "output_type": "stream",
     "text": [
      "Cloning into 'reid-custom'...\r\n",
      "remote: Enumerating objects: 557, done.\u001b[K\r\n",
      "remote: Counting objects: 100% (557/557), done.\u001b[K\r\n",
      "remote: Compressing objects: 100% (347/347), done.\u001b[K\r\n",
      "remote: Total 557 (delta 286), reused 470 (delta 199), pack-reused 0\u001b[K\r\n",
      "Receiving objects: 100% (557/557), 1.12 MiB | 9.54 MiB/s, done.\r\n",
      "Resolving deltas: 100% (286/286), done.\r\n"
     ]
    }
   ],
   "source": [
    "!rm -rf reid-custom\n",
    "!git clone https://github.com/HuangYin0514/reid-custom.git"
   ]
  },
  {
   "cell_type": "code",
   "execution_count": 3,
   "metadata": {},
   "outputs": [
    {
     "name": "stdout",
     "output_type": "stream",
     "text": [
      "/kaggle/working/reid-custom\n"
     ]
    }
   ],
   "source": [
    "cd ./reid-custom/"
   ]
  },
  {
   "cell_type": "code",
   "execution_count": 4,
   "metadata": {},
   "outputs": [
    {
     "name": "stdout",
     "output_type": "stream",
     "text": [
      "Downloading: \"https://download.pytorch.org/models/resnet50-19c8e357.pth\" to /root/.cache/torch/checkpoints/resnet50-19c8e357.pth\r\n",
      "100%|███████████████████████████████████████| 97.8M/97.8M [00:00<00:00, 128MB/s]\r\n",
      "2020-05-18 08:19:28 ----------\r\n",
      "2020-05-18 08:19:28 {'nThread': 4, 'nGPU': 1, 'save_path': './experiments', 'experiment': 'PCB_p6', 'dataset': 'Market1501', 'dataset_path': '/kaggle/input/market1501/Market-1501-v15.09.15', 'height': 384, 'width': 128, 'batch_size': 64, 'share_conv': False, 'stripes': 6, 'epochs': 60, 'test_every': 10, 'lr': 0.1, 'lr_base': 0.01, 'decay_every': 20, 'gamma': 0.1}\r\n",
      "2020-05-18 08:19:28 Epoch 1/60\r\n",
      "2020-05-18 08:21:06 Training Loss: 28.9853\r\n",
      "2020-05-18 08:21:06 ----------\r\n",
      "2020-05-18 08:21:06 Epoch 2/60\r\n",
      "2020-05-18 08:22:43 Training Loss: 15.2719\r\n",
      "2020-05-18 08:22:43 ----------\r\n",
      "2020-05-18 08:22:43 Epoch 3/60\r\n",
      "2020-05-18 08:24:20 Training Loss: 9.4345\r\n",
      "2020-05-18 08:24:20 ----------\r\n",
      "2020-05-18 08:24:20 Epoch 4/60\r\n",
      "2020-05-18 08:25:57 Training Loss: 6.3421\r\n",
      "2020-05-18 08:25:57 ----------\r\n",
      "2020-05-18 08:25:57 Epoch 5/60\r\n",
      "2020-05-18 08:27:33 Training Loss: 4.3160\r\n",
      "2020-05-18 08:27:33 ----------\r\n",
      "2020-05-18 08:27:33 Epoch 6/60\r\n",
      "2020-05-18 08:29:10 Training Loss: 3.2749\r\n",
      "2020-05-18 08:29:10 ----------\r\n",
      "2020-05-18 08:29:10 Epoch 7/60\r\n",
      "2020-05-18 08:30:47 Training Loss: 2.3826\r\n",
      "2020-05-18 08:30:47 ----------\r\n",
      "2020-05-18 08:30:47 Epoch 8/60\r\n",
      "2020-05-18 08:32:24 Training Loss: 1.6763\r\n",
      "2020-05-18 08:32:24 ----------\r\n",
      "2020-05-18 08:32:24 Epoch 9/60\r\n",
      "2020-05-18 08:34:00 Training Loss: 1.1611\r\n",
      "2020-05-18 08:34:00 ----------\r\n",
      "2020-05-18 08:34:00 Epoch 10/60\r\n",
      "2020-05-18 08:35:37 Training Loss: 0.8414\r\n",
      "2020-05-18 08:35:37 ----------\r\n",
      "2020-05-18 08:35:37 Epoch 11/60\r\n",
      "2020-05-18 08:37:14 Training Loss: 0.6798\r\n",
      "2020-05-18 08:37:14 ----------\r\n",
      "2020-05-18 08:37:14 Epoch 12/60\r\n",
      "2020-05-18 08:38:51 Training Loss: 0.4404\r\n",
      "2020-05-18 08:38:51 ----------\r\n",
      "2020-05-18 08:38:51 Epoch 13/60\r\n",
      "2020-05-18 08:40:34 Training Loss: 0.4694\r\n",
      "2020-05-18 08:40:34 ----------\r\n",
      "2020-05-18 08:40:34 Epoch 14/60\r\n",
      "2020-05-18 08:42:11 Training Loss: 0.3615\r\n",
      "2020-05-18 08:42:11 ----------\r\n",
      "2020-05-18 08:42:11 Epoch 15/60\r\n",
      "2020-05-18 08:43:47 Training Loss: 0.2605\r\n",
      "2020-05-18 08:43:47 ----------\r\n",
      "2020-05-18 08:43:47 Epoch 16/60\r\n",
      "2020-05-18 08:45:24 Training Loss: 0.2699\r\n",
      "2020-05-18 08:45:24 ----------\r\n",
      "2020-05-18 08:45:24 Epoch 17/60\r\n",
      "2020-05-18 08:47:01 Training Loss: 0.3050\r\n",
      "2020-05-18 08:47:01 ----------\r\n",
      "2020-05-18 08:47:01 Epoch 18/60\r\n",
      "2020-05-18 08:48:38 Training Loss: 0.2790\r\n",
      "2020-05-18 08:48:38 ----------\r\n",
      "2020-05-18 08:48:38 Epoch 19/60\r\n",
      "2020-05-18 08:50:14 Training Loss: 0.3414\r\n",
      "2020-05-18 08:50:14 ----------\r\n",
      "2020-05-18 08:50:14 Epoch 20/60\r\n",
      "2020-05-18 08:51:51 Training Loss: 0.2739\r\n",
      "2020-05-18 08:53:48 Testing: top1:92.16 top5:97.21 top10:97.98 mAP:77.76\r\n",
      "2020-05-18 08:53:48 ----------\r\n",
      "2020-05-18 08:53:48 Epoch 21/60\r\n",
      "2020-05-18 08:55:25 Training Loss: 0.2179\r\n",
      "2020-05-18 08:55:25 ----------\r\n",
      "2020-05-18 08:55:25 Epoch 22/60\r\n",
      "2020-05-18 08:57:02 Training Loss: 0.3467\r\n",
      "2020-05-18 08:57:02 ----------\r\n",
      "2020-05-18 08:57:02 Epoch 23/60\r\n",
      "2020-05-18 08:58:39 Training Loss: 0.4522\r\n",
      "2020-05-18 08:58:39 ----------\r\n",
      "2020-05-18 08:58:39 Epoch 24/60\r\n",
      "2020-05-18 09:00:16 Training Loss: 0.4954\r\n",
      "2020-05-18 09:00:16 ----------\r\n",
      "2020-05-18 09:00:16 Epoch 25/60\r\n",
      "2020-05-18 09:01:52 Training Loss: 0.8923\r\n",
      "2020-05-18 09:01:52 ----------\r\n",
      "2020-05-18 09:01:52 Epoch 26/60\r\n",
      "2020-05-18 09:03:29 Training Loss: 0.8854\r\n",
      "2020-05-18 09:03:29 ----------\r\n",
      "2020-05-18 09:03:29 Epoch 27/60\r\n",
      "2020-05-18 09:05:06 Training Loss: 0.7866\r\n",
      "2020-05-18 09:05:06 ----------\r\n",
      "2020-05-18 09:05:06 Epoch 28/60\r\n",
      "2020-05-18 09:06:43 Training Loss: 0.4323\r\n",
      "2020-05-18 09:06:43 ----------\r\n",
      "2020-05-18 09:06:43 Epoch 29/60\r\n",
      "2020-05-18 09:08:20 Training Loss: 0.5302\r\n",
      "2020-05-18 09:08:20 ----------\r\n",
      "2020-05-18 09:08:20 Epoch 30/60\r\n",
      "2020-05-18 09:09:57 Training Loss: 0.2135\r\n",
      "2020-05-18 09:09:57 ----------\r\n",
      "2020-05-18 09:09:57 Epoch 31/60\r\n",
      "2020-05-18 09:11:34 Training Loss: 0.1757\r\n",
      "2020-05-18 09:11:34 ----------\r\n",
      "2020-05-18 09:11:34 Epoch 32/60\r\n",
      "2020-05-18 09:13:10 Training Loss: 0.3564\r\n",
      "2020-05-18 09:13:11 ----------\r\n",
      "2020-05-18 09:13:11 Epoch 33/60\r\n",
      "2020-05-18 09:14:47 Training Loss: 0.5314\r\n",
      "2020-05-18 09:14:47 ----------\r\n",
      "2020-05-18 09:14:47 Epoch 34/60\r\n",
      "2020-05-18 09:16:24 Training Loss: 0.1764\r\n",
      "2020-05-18 09:16:24 ----------\r\n",
      "2020-05-18 09:16:24 Epoch 35/60\r\n",
      "2020-05-18 09:18:01 Training Loss: 0.2529\r\n",
      "2020-05-18 09:18:01 ----------\r\n",
      "2020-05-18 09:18:01 Epoch 36/60\r\n",
      "2020-05-18 09:19:38 Training Loss: 0.2676\r\n",
      "2020-05-18 09:19:38 ----------\r\n",
      "2020-05-18 09:19:38 Epoch 37/60\r\n",
      "2020-05-18 09:21:15 Training Loss: 0.1858\r\n",
      "2020-05-18 09:21:15 ----------\r\n",
      "2020-05-18 09:21:15 Epoch 38/60\r\n",
      "2020-05-18 09:22:52 Training Loss: 0.1779\r\n",
      "2020-05-18 09:22:52 ----------\r\n",
      "2020-05-18 09:22:52 Epoch 39/60\r\n",
      "2020-05-18 09:24:28 Training Loss: 0.2331\r\n",
      "2020-05-18 09:24:28 ----------\r\n",
      "2020-05-18 09:24:28 Epoch 40/60\r\n",
      "2020-05-18 09:26:05 Training Loss: 0.1615\r\n",
      "2020-05-18 09:27:57 Testing: top1:91.09 top5:96.35 top10:97.71 mAP:75.74\r\n",
      "2020-05-18 09:27:57 ----------\r\n",
      "2020-05-18 09:27:57 Epoch 41/60\r\n",
      "2020-05-18 09:29:34 Training Loss: 0.1291\r\n",
      "2020-05-18 09:29:34 ----------\r\n",
      "2020-05-18 09:29:34 Epoch 42/60\r\n",
      "2020-05-18 09:31:11 Training Loss: 0.1157\r\n",
      "2020-05-18 09:31:11 ----------\r\n",
      "2020-05-18 09:31:11 Epoch 43/60\r\n",
      "2020-05-18 09:32:48 Training Loss: 0.1133\r\n",
      "2020-05-18 09:32:48 ----------\r\n",
      "2020-05-18 09:32:48 Epoch 44/60\r\n",
      "2020-05-18 09:34:25 Training Loss: 0.1159\r\n",
      "2020-05-18 09:34:25 ----------\r\n",
      "2020-05-18 09:34:25 Epoch 45/60\r\n",
      "2020-05-18 09:36:02 Training Loss: 0.1171\r\n",
      "2020-05-18 09:36:02 ----------\r\n",
      "2020-05-18 09:36:02 Epoch 46/60\r\n",
      "2020-05-18 09:37:39 Training Loss: 0.1193\r\n",
      "2020-05-18 09:37:39 ----------\r\n",
      "2020-05-18 09:37:39 Epoch 47/60\r\n",
      "2020-05-18 09:39:15 Training Loss: 0.1237\r\n",
      "2020-05-18 09:39:15 ----------\r\n",
      "2020-05-18 09:39:15 Epoch 48/60\r\n",
      "2020-05-18 09:40:52 Training Loss: 0.1266\r\n",
      "2020-05-18 09:40:52 ----------\r\n",
      "2020-05-18 09:40:52 Epoch 49/60\r\n",
      "2020-05-18 09:42:29 Training Loss: 0.1251\r\n",
      "2020-05-18 09:42:29 ----------\r\n",
      "2020-05-18 09:42:29 Epoch 50/60\r\n",
      "2020-05-18 09:44:06 Training Loss: 0.1259\r\n",
      "2020-05-18 09:44:06 ----------\r\n",
      "2020-05-18 09:44:06 Epoch 51/60\r\n",
      "2020-05-18 09:45:43 Training Loss: 0.1288\r\n",
      "2020-05-18 09:45:43 ----------\r\n",
      "2020-05-18 09:45:43 Epoch 52/60\r\n",
      "2020-05-18 09:47:19 Training Loss: 0.1319\r\n",
      "2020-05-18 09:47:19 ----------\r\n",
      "2020-05-18 09:47:19 Epoch 53/60\r\n",
      "2020-05-18 09:48:56 Training Loss: 0.1309\r\n",
      "2020-05-18 09:48:56 ----------\r\n",
      "2020-05-18 09:48:56 Epoch 54/60\r\n",
      "2020-05-18 09:50:33 Training Loss: 0.1310\r\n",
      "2020-05-18 09:50:33 ----------\r\n",
      "2020-05-18 09:50:33 Epoch 55/60\r\n",
      "2020-05-18 09:52:10 Training Loss: 0.1339\r\n",
      "2020-05-18 09:52:10 ----------\r\n",
      "2020-05-18 09:52:10 Epoch 56/60\r\n",
      "2020-05-18 09:53:47 Training Loss: 0.1461\r\n",
      "2020-05-18 09:53:47 ----------\r\n",
      "2020-05-18 09:53:47 Epoch 57/60\r\n",
      "2020-05-18 09:55:24 Training Loss: 0.1375\r\n",
      "2020-05-18 09:55:24 ----------\r\n",
      "2020-05-18 09:55:24 Epoch 58/60\r\n",
      "2020-05-18 09:57:01 Training Loss: 0.1388\r\n",
      "2020-05-18 09:57:01 ----------\r\n",
      "2020-05-18 09:57:01 Epoch 59/60\r\n",
      "2020-05-18 09:58:37 Training Loss: 0.1357\r\n",
      "2020-05-18 09:58:37 ----------\r\n",
      "2020-05-18 09:58:37 Epoch 60/60\r\n",
      "2020-05-18 10:00:14 Training Loss: 0.1334\r\n",
      "2020-05-18 10:02:07 Testing: top1:92.04 top5:96.97 top10:98.01 mAP:78.20\r\n",
      "2020-05-18 10:02:07 ----------\r\n",
      "2020-05-18 10:02:07 Training complete in 102m 38s\r\n"
     ]
    }
   ],
   "source": [
    "!python main.py \\\n",
    "--experiment=PCB_p6 \\\n",
    "--dataset_path=/kaggle/input/market1501/Market-1501-v15.09.15 \n",
    "# --epochs=1"
   ]
  },
  {
   "cell_type": "code",
   "execution_count": 5,
   "metadata": {},
   "outputs": [
    {
     "name": "stdout",
     "output_type": "stream",
     "text": [
      "2020-05-18 10:02:14 {'experiment': 'PCB_p6', 'save_path': './experiments', 'which_epoch': 'final', 'checkpoint': 'experiments/Market1501', 'dataset': 'Occluded_REID', 'dataset_path': '/kaggle/input/occluded-reid', 'batch_size': 512, 'share_conv': False}\r\n",
      "2020-05-18 10:02:29 Testing: top1:54.80 top5:73.10 top10:79.80 mAP:50.02\r\n"
     ]
    }
   ],
   "source": [
    "!python test.py \\\n",
    "    --dataset=Occluded_REID \\\n",
    "    --dataset_path=/kaggle/input/occluded-reid \\\n",
    "    --checkpoint=experiments/Market1501 "
   ]
  },
  {
   "cell_type": "markdown",
   "execution_count": null,
   "metadata": {},
   "source": [
    "# clean the result"
   ]
  },
  {
   "cell_type": "code",
   "execution_count": 6,
   "metadata": {},
   "outputs": [
    {
     "name": "stdout",
     "output_type": "stream",
     "text": [
      "/kaggle/working/reid-custom\r\n"
     ]
    }
   ],
   "source": [
    "!pwd"
   ]
  },
  {
   "cell_type": "code",
   "execution_count": 7,
   "metadata": {},
   "outputs": [],
   "source": [
    "# !tar zcf ../experiments.tar experiments\n",
    "# !rm -rf   experiments*  project_result*"
   ]
  }
 ],
 "metadata": {
  "kernelspec": {
   "display_name": "Python 3",
   "language": "python",
   "name": "python3"
  },
  "language_info": {
   "codemirror_mode": {
    "name": "ipython",
    "version": 3
   },
   "file_extension": ".py",
   "mimetype": "text/x-python",
   "name": "python",
   "nbconvert_exporter": "python",
   "pygments_lexer": "ipython3",
   "version": "3.7.6"
  }
 },
 "nbformat": 4,
 "nbformat_minor": 4
}
