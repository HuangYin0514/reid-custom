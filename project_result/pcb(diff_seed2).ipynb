{
 "cells": [
  {
   "cell_type": "code",
   "execution_count": 1,
   "metadata": {},
   "outputs": [
    {
     "name": "stdout",
     "output_type": "stream",
     "text": [
      "/kaggle/working\n"
     ]
    }
   ],
   "source": [
    "cd /kaggle/working/"
   ]
  },
  {
   "cell_type": "code",
   "execution_count": 2,
   "metadata": {
    "_cell_guid": "79c7e3d0-c299-4dcb-8224-4455121ee9b0",
    "_uuid": "d629ff2d2480ee46fbb7e2d37f6b5fab8052498a"
   },
   "outputs": [
    {
     "name": "stdout",
     "output_type": "stream",
     "text": [
      "Cloning into 'reid-custom'...\r\n",
      "remote: Enumerating objects: 557, done.\u001b[K\r\n",
      "remote: Counting objects: 100% (557/557), done.\u001b[K\r\n",
      "remote: Compressing objects: 100% (347/347), done.\u001b[K\r\n",
      "remote: Total 557 (delta 286), reused 470 (delta 199), pack-reused 0\u001b[K\r\n",
      "Receiving objects: 100% (557/557), 1.12 MiB | 1.29 MiB/s, done.\r\n",
      "Resolving deltas: 100% (286/286), done.\r\n"
     ]
    }
   ],
   "source": [
    "!rm -rf reid-custom\n",
    "!git clone https://github.com/HuangYin0514/reid-custom.git"
   ]
  },
  {
   "cell_type": "code",
   "execution_count": 3,
   "metadata": {},
   "outputs": [
    {
     "name": "stdout",
     "output_type": "stream",
     "text": [
      "/kaggle/working/reid-custom\n"
     ]
    }
   ],
   "source": [
    "cd ./reid-custom/"
   ]
  },
  {
   "cell_type": "code",
   "execution_count": 4,
   "metadata": {},
   "outputs": [
    {
     "name": "stdout",
     "output_type": "stream",
     "text": [
      "Downloading: \"https://download.pytorch.org/models/resnet50-19c8e357.pth\" to /root/.cache/torch/checkpoints/resnet50-19c8e357.pth\r\n",
      "100%|███████████████████████████████████████| 97.8M/97.8M [00:00<00:00, 189MB/s]\r\n",
      "2020-05-19 09:56:38 ----------\r\n",
      "2020-05-19 09:56:38 {'nThread': 4, 'nGPU': 1, 'save_path': './experiments', 'experiment': 'PCB_p6', 'dataset': 'Market1501', 'dataset_path': '/kaggle/input/market1501/Market-1501-v15.09.15', 'height': 384, 'width': 128, 'batch_size': 64, 'share_conv': False, 'stripes': 6, 'epochs': 60, 'test_every': 10, 'lr': 0.1, 'lr_base': 0.01, 'decay_every': 20, 'gamma': 0.1}\r\n",
      "2020-05-19 09:56:38 Epoch 1/60\r\n",
      "2020-05-19 09:58:17 Training Loss: 28.9624\r\n",
      "2020-05-19 09:58:17 ----------\r\n",
      "2020-05-19 09:58:17 Epoch 2/60\r\n",
      "2020-05-19 09:59:54 Training Loss: 15.1060\r\n",
      "2020-05-19 09:59:54 ----------\r\n",
      "2020-05-19 09:59:54 Epoch 3/60\r\n",
      "2020-05-19 10:01:31 Training Loss: 9.2827\r\n",
      "2020-05-19 10:01:31 ----------\r\n",
      "2020-05-19 10:01:31 Epoch 4/60\r\n",
      "2020-05-19 10:03:08 Training Loss: 6.1662\r\n",
      "2020-05-19 10:03:08 ----------\r\n",
      "2020-05-19 10:03:08 Epoch 5/60\r\n",
      "2020-05-19 10:04:45 Training Loss: 4.2333\r\n",
      "2020-05-19 10:04:45 ----------\r\n",
      "2020-05-19 10:04:45 Epoch 6/60\r\n",
      "2020-05-19 10:06:22 Training Loss: 3.0881\r\n",
      "2020-05-19 10:06:22 ----------\r\n",
      "2020-05-19 10:06:22 Epoch 7/60\r\n",
      "2020-05-19 10:07:59 Training Loss: 2.1996\r\n",
      "2020-05-19 10:07:59 ----------\r\n",
      "2020-05-19 10:07:59 Epoch 8/60\r\n",
      "2020-05-19 10:09:36 Training Loss: 1.4273\r\n",
      "2020-05-19 10:09:36 ----------\r\n",
      "2020-05-19 10:09:36 Epoch 9/60\r\n",
      "2020-05-19 10:11:13 Training Loss: 0.9377\r\n",
      "2020-05-19 10:11:13 ----------\r\n",
      "2020-05-19 10:11:13 Epoch 10/60\r\n",
      "2020-05-19 10:12:49 Training Loss: 0.8512\r\n",
      "2020-05-19 10:12:49 ----------\r\n",
      "2020-05-19 10:12:49 Epoch 11/60\r\n",
      "2020-05-19 10:14:26 Training Loss: 0.5203\r\n",
      "2020-05-19 10:14:26 ----------\r\n",
      "2020-05-19 10:14:26 Epoch 12/60\r\n",
      "2020-05-19 10:16:03 Training Loss: 0.4520\r\n",
      "2020-05-19 10:16:03 ----------\r\n",
      "2020-05-19 10:16:03 Epoch 13/60\r\n",
      "2020-05-19 10:17:40 Training Loss: 0.3287\r\n",
      "2020-05-19 10:17:40 ----------\r\n",
      "2020-05-19 10:17:40 Epoch 14/60\r\n",
      "2020-05-19 10:19:17 Training Loss: 0.3123\r\n",
      "2020-05-19 10:19:17 ----------\r\n",
      "2020-05-19 10:19:17 Epoch 15/60\r\n",
      "2020-05-19 10:20:54 Training Loss: 0.2791\r\n",
      "2020-05-19 10:20:54 ----------\r\n",
      "2020-05-19 10:20:54 Epoch 16/60\r\n",
      "2020-05-19 10:22:31 Training Loss: 0.2379\r\n",
      "2020-05-19 10:22:31 ----------\r\n",
      "2020-05-19 10:22:31 Epoch 17/60\r\n",
      "2020-05-19 10:24:08 Training Loss: 0.2692\r\n",
      "2020-05-19 10:24:08 ----------\r\n",
      "2020-05-19 10:24:08 Epoch 18/60\r\n",
      "2020-05-19 10:25:45 Training Loss: 0.3171\r\n",
      "2020-05-19 10:25:45 ----------\r\n",
      "2020-05-19 10:25:45 Epoch 19/60\r\n",
      "2020-05-19 10:27:22 Training Loss: 0.2605\r\n",
      "2020-05-19 10:27:22 ----------\r\n",
      "2020-05-19 10:27:22 Epoch 20/60\r\n",
      "2020-05-19 10:28:58 Training Loss: 0.3038\r\n",
      "2020-05-19 10:31:02 Testing: top1:91.51 top5:96.73 top10:97.86 mAP:76.67\r\n",
      "2020-05-19 10:31:02 ----------\r\n",
      "2020-05-19 10:31:02 Epoch 21/60\r\n",
      "2020-05-19 10:32:39 Training Loss: 0.3483\r\n",
      "2020-05-19 10:32:39 ----------\r\n",
      "2020-05-19 10:32:39 Epoch 22/60\r\n",
      "2020-05-19 10:34:16 Training Loss: 0.6570\r\n",
      "2020-05-19 10:34:16 ----------\r\n",
      "2020-05-19 10:34:16 Epoch 23/60\r\n",
      "2020-05-19 10:35:53 Training Loss: 1.0538\r\n",
      "2020-05-19 10:35:53 ----------\r\n",
      "2020-05-19 10:35:53 Epoch 24/60\r\n",
      "2020-05-19 10:37:30 Training Loss: 1.0633\r\n",
      "2020-05-19 10:37:30 ----------\r\n",
      "2020-05-19 10:37:30 Epoch 25/60\r\n",
      "2020-05-19 10:39:07 Training Loss: 1.0371\r\n",
      "2020-05-19 10:39:07 ----------\r\n",
      "2020-05-19 10:39:07 Epoch 26/60\r\n",
      "2020-05-19 10:40:44 Training Loss: 0.7539\r\n",
      "2020-05-19 10:40:44 ----------\r\n",
      "2020-05-19 10:40:44 Epoch 27/60\r\n",
      "2020-05-19 10:42:22 Training Loss: 0.4654\r\n",
      "2020-05-19 10:42:22 ----------\r\n",
      "2020-05-19 10:42:22 Epoch 28/60\r\n",
      "2020-05-19 10:43:59 Training Loss: 0.3370\r\n",
      "2020-05-19 10:43:59 ----------\r\n",
      "2020-05-19 10:43:59 Epoch 29/60\r\n",
      "2020-05-19 10:45:36 Training Loss: 0.2444\r\n",
      "2020-05-19 10:45:36 ----------\r\n",
      "2020-05-19 10:45:36 Epoch 30/60\r\n",
      "2020-05-19 10:47:13 Training Loss: 0.1783\r\n",
      "2020-05-19 10:47:13 ----------\r\n",
      "2020-05-19 10:47:13 Epoch 31/60\r\n",
      "2020-05-19 10:48:50 Training Loss: 0.1813\r\n",
      "2020-05-19 10:48:50 ----------\r\n",
      "2020-05-19 10:48:50 Epoch 32/60\r\n",
      "2020-05-19 10:50:27 Training Loss: 0.2066\r\n",
      "2020-05-19 10:50:27 ----------\r\n",
      "2020-05-19 10:50:27 Epoch 33/60\r\n",
      "2020-05-19 10:52:04 Training Loss: 0.2329\r\n",
      "2020-05-19 10:52:04 ----------\r\n",
      "2020-05-19 10:52:04 Epoch 34/60\r\n",
      "2020-05-19 10:53:41 Training Loss: 0.1983\r\n",
      "2020-05-19 10:53:41 ----------\r\n",
      "2020-05-19 10:53:41 Epoch 35/60\r\n",
      "2020-05-19 10:55:18 Training Loss: 0.1799\r\n",
      "2020-05-19 10:55:18 ----------\r\n",
      "2020-05-19 10:55:18 Epoch 36/60\r\n",
      "2020-05-19 10:56:55 Training Loss: 0.2350\r\n",
      "2020-05-19 10:56:55 ----------\r\n",
      "2020-05-19 10:56:55 Epoch 37/60\r\n",
      "2020-05-19 10:58:32 Training Loss: 0.2060\r\n",
      "2020-05-19 10:58:32 ----------\r\n",
      "2020-05-19 10:58:32 Epoch 38/60\r\n",
      "2020-05-19 11:00:09 Training Loss: 0.2040\r\n",
      "2020-05-19 11:00:09 ----------\r\n",
      "2020-05-19 11:00:09 Epoch 39/60\r\n",
      "2020-05-19 11:01:47 Training Loss: 0.3134\r\n",
      "2020-05-19 11:01:47 ----------\r\n",
      "2020-05-19 11:01:47 Epoch 40/60\r\n",
      "2020-05-19 11:03:24 Training Loss: 0.4057\r\n",
      "2020-05-19 11:05:22 Testing: top1:90.62 top5:96.44 top10:97.68 mAP:74.25\r\n",
      "2020-05-19 11:05:22 ----------\r\n",
      "2020-05-19 11:05:22 Epoch 41/60\r\n",
      "2020-05-19 11:06:59 Training Loss: 0.1573\r\n",
      "2020-05-19 11:06:59 ----------\r\n",
      "2020-05-19 11:06:59 Epoch 42/60\r\n",
      "2020-05-19 11:08:36 Training Loss: 0.0961\r\n",
      "2020-05-19 11:08:36 ----------\r\n",
      "2020-05-19 11:08:36 Epoch 43/60\r\n",
      "2020-05-19 11:10:13 Training Loss: 0.0881\r\n",
      "2020-05-19 11:10:13 ----------\r\n",
      "2020-05-19 11:10:13 Epoch 44/60\r\n",
      "2020-05-19 11:11:51 Training Loss: 0.0860\r\n",
      "2020-05-19 11:11:51 ----------\r\n",
      "2020-05-19 11:11:51 Epoch 45/60\r\n",
      "2020-05-19 11:13:28 Training Loss: 0.0882\r\n",
      "2020-05-19 11:13:28 ----------\r\n",
      "2020-05-19 11:13:28 Epoch 46/60\r\n",
      "2020-05-19 11:15:05 Training Loss: 0.0918\r\n",
      "2020-05-19 11:15:05 ----------\r\n",
      "2020-05-19 11:15:05 Epoch 47/60\r\n",
      "2020-05-19 11:16:43 Training Loss: 0.0945\r\n",
      "2020-05-19 11:16:43 ----------\r\n",
      "2020-05-19 11:16:43 Epoch 48/60\r\n",
      "2020-05-19 11:18:20 Training Loss: 0.0971\r\n",
      "2020-05-19 11:18:20 ----------\r\n",
      "2020-05-19 11:18:20 Epoch 49/60\r\n",
      "2020-05-19 11:19:57 Training Loss: 0.0992\r\n",
      "2020-05-19 11:19:57 ----------\r\n",
      "2020-05-19 11:19:57 Epoch 50/60\r\n",
      "2020-05-19 11:21:34 Training Loss: 0.1029\r\n",
      "2020-05-19 11:21:34 ----------\r\n",
      "2020-05-19 11:21:34 Epoch 51/60\r\n",
      "2020-05-19 11:23:11 Training Loss: 0.1049\r\n",
      "2020-05-19 11:23:11 ----------\r\n",
      "2020-05-19 11:23:11 Epoch 52/60\r\n",
      "2020-05-19 11:24:48 Training Loss: 0.1066\r\n",
      "2020-05-19 11:24:48 ----------\r\n",
      "2020-05-19 11:24:48 Epoch 53/60\r\n",
      "2020-05-19 11:26:26 Training Loss: 0.1112\r\n",
      "2020-05-19 11:26:26 ----------\r\n",
      "2020-05-19 11:26:26 Epoch 54/60\r\n",
      "2020-05-19 11:28:03 Training Loss: 0.1169\r\n",
      "2020-05-19 11:28:03 ----------\r\n",
      "2020-05-19 11:28:03 Epoch 55/60\r\n",
      "2020-05-19 11:29:40 Training Loss: 0.1149\r\n",
      "2020-05-19 11:29:40 ----------\r\n",
      "2020-05-19 11:29:40 Epoch 56/60\r\n",
      "2020-05-19 11:31:17 Training Loss: 0.1171\r\n",
      "2020-05-19 11:31:17 ----------\r\n",
      "2020-05-19 11:31:17 Epoch 57/60\r\n",
      "2020-05-19 11:32:55 Training Loss: 0.1181\r\n",
      "2020-05-19 11:32:55 ----------\r\n",
      "2020-05-19 11:32:55 Epoch 58/60\r\n",
      "2020-05-19 11:34:32 Training Loss: 0.1205\r\n",
      "2020-05-19 11:34:32 ----------\r\n",
      "2020-05-19 11:34:32 Epoch 59/60\r\n",
      "2020-05-19 11:36:09 Training Loss: 0.1211\r\n",
      "2020-05-19 11:36:09 ----------\r\n",
      "2020-05-19 11:36:09 Epoch 60/60\r\n",
      "2020-05-19 11:37:46 Training Loss: 0.1240\r\n",
      "2020-05-19 11:39:44 Testing: top1:92.22 top5:96.82 top10:98.01 mAP:78.08\r\n",
      "2020-05-19 11:39:44 ----------\r\n",
      "2020-05-19 11:39:44 Training complete in 103m 6s\r\n"
     ]
    }
   ],
   "source": [
    "!python main.py \\\n",
    "    --experiment=PCB_p6 \\\n",
    "    --dataset_path=/kaggle/input/market1501/Market-1501-v15.09.15 \\\n",
    "\n",
    "# !python main.py \\\n",
    "# --experiment=PCB_p6 \\\n",
    "# --dataset_path=/kaggle/input/market1501/Market-1501-v15.09.15 \\\n",
    "# --epoch=1 "
   ]
  },
  {
   "cell_type": "code",
   "execution_count": 5,
   "metadata": {},
   "outputs": [
    {
     "name": "stdout",
     "output_type": "stream",
     "text": [
      "2020-05-19 11:39:51 {'experiment': 'PCB_p6', 'save_path': './experiments', 'which_epoch': 'final', 'checkpoint': 'experiments/Market1501', 'dataset': 'Occluded_REID', 'dataset_path': '/kaggle/input/occluded-reid', 'batch_size': 512, 'share_conv': False}\r\n",
      "2020-05-19 11:40:06 Testing: top1:56.40 top5:73.00 top10:79.30 mAP:50.67\r\n"
     ]
    }
   ],
   "source": [
    "!python test.py \\\n",
    "    --dataset=Occluded_REID \\\n",
    "    --dataset_path=/kaggle/input/occluded-reid \\\n",
    "    --checkpoint=experiments/Market1501 "
   ]
  },
  {
   "cell_type": "markdown",
   "execution_count": null,
   "metadata": {},
   "source": [
    "# clean the result"
   ]
  },
  {
   "cell_type": "code",
   "execution_count": 6,
   "metadata": {},
   "outputs": [],
   "source": [
    "# !tar zcf ../experiments.tar experiments\n",
    "# !rm -rf   experiments*  project_result*"
   ]
  }
 ],
 "metadata": {
  "kernelspec": {
   "display_name": "Python 3",
   "language": "python",
   "name": "python3"
  },
  "language_info": {
   "codemirror_mode": {
    "name": "ipython",
    "version": 3
   },
   "file_extension": ".py",
   "mimetype": "text/x-python",
   "name": "python",
   "nbconvert_exporter": "python",
   "pygments_lexer": "ipython3",
   "version": "3.7.6"
  }
 },
 "nbformat": 4,
 "nbformat_minor": 4
}
