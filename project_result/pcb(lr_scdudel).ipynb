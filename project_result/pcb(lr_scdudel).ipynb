{
 "cells": [
  {
   "cell_type": "code",
   "execution_count": 1,
   "metadata": {},
   "outputs": [
    {
     "name": "stdout",
     "output_type": "stream",
     "text": [
      "/kaggle/working\n"
     ]
    }
   ],
   "source": [
    "cd /kaggle/working/"
   ]
  },
  {
   "cell_type": "code",
   "execution_count": 2,
   "metadata": {
    "_cell_guid": "79c7e3d0-c299-4dcb-8224-4455121ee9b0",
    "_uuid": "d629ff2d2480ee46fbb7e2d37f6b5fab8052498a"
   },
   "outputs": [
    {
     "name": "stdout",
     "output_type": "stream",
     "text": [
      "Cloning into 'reid-custom'...\r\n",
      "remote: Enumerating objects: 564, done.\u001b[K\r\n",
      "remote: Counting objects: 100% (564/564), done.\u001b[K\r\n",
      "remote: Compressing objects: 100% (352/352), done.\u001b[K\r\n",
      "remote: Total 564 (delta 291), reused 474 (delta 201), pack-reused 0\u001b[K\r\n",
      "Receiving objects: 100% (564/564), 1.12 MiB | 3.72 MiB/s, done.\r\n",
      "Resolving deltas: 100% (291/291), done.\r\n"
     ]
    }
   ],
   "source": [
    "!rm -rf reid-custom\n",
    "!git clone https://github.com/HuangYin0514/reid-custom.git"
   ]
  },
  {
   "cell_type": "code",
   "execution_count": 3,
   "metadata": {},
   "outputs": [
    {
     "name": "stdout",
     "output_type": "stream",
     "text": [
      "/kaggle/working/reid-custom\n"
     ]
    }
   ],
   "source": [
    "cd ./reid-custom/"
   ]
  },
  {
   "cell_type": "code",
   "execution_count": 4,
   "metadata": {},
   "outputs": [
    {
     "name": "stdout",
     "output_type": "stream",
     "text": [
      "Downloading: \"https://download.pytorch.org/models/resnet50-19c8e357.pth\" to /root/.cache/torch/checkpoints/resnet50-19c8e357.pth\r\n",
      "100%|███████████████████████████████████████| 97.8M/97.8M [00:00<00:00, 182MB/s]\r\n",
      "2020-05-19 17:02:57 ----------\r\n",
      "2020-05-19 17:02:57 {'nThread': 4, 'nGPU': 1, 'save_path': './experiments', 'experiment': 'PCB_p6', 'dataset': 'Market1501', 'dataset_path': '/kaggle/input/market1501/Market-1501-v15.09.15', 'height': 384, 'width': 128, 'batch_size': 64, 'share_conv': False, 'stripes': 6, 'epochs': 60, 'test_every': 10, 'lr': 0.1, 'lr_base': 0.01, 'decay_every': 20, 'gamma': 0.1}\r\n",
      "2020-05-19 17:02:57 Epoch 1/60\r\n",
      "2020-05-19 17:04:35 Training Loss: 36.4862\r\n",
      "2020-05-19 17:04:35 ----------\r\n",
      "2020-05-19 17:04:35 Epoch 2/60\r\n",
      "2020-05-19 17:06:12 Training Loss: 34.4099\r\n",
      "2020-05-19 17:06:12 ----------\r\n",
      "2020-05-19 17:06:12 Epoch 3/60\r\n",
      "2020-05-19 17:07:48 Training Loss: 33.3098\r\n",
      "2020-05-19 17:07:48 ----------\r\n",
      "2020-05-19 17:07:48 Epoch 4/60\r\n",
      "2020-05-19 17:09:25 Training Loss: 32.2979\r\n",
      "2020-05-19 17:09:25 ----------\r\n",
      "2020-05-19 17:09:25 Epoch 5/60\r\n",
      "2020-05-19 17:11:02 Training Loss: 31.3167\r\n",
      "2020-05-19 17:11:02 ----------\r\n",
      "2020-05-19 17:11:02 Epoch 6/60\r\n",
      "2020-05-19 17:12:38 Training Loss: 30.3562\r\n",
      "2020-05-19 17:12:38 ----------\r\n",
      "2020-05-19 17:12:38 Epoch 7/60\r\n",
      "2020-05-19 17:14:15 Training Loss: 29.4117\r\n",
      "2020-05-19 17:14:15 ----------\r\n",
      "2020-05-19 17:14:15 Epoch 8/60\r\n",
      "2020-05-19 17:15:52 Training Loss: 28.4728\r\n",
      "2020-05-19 17:15:52 ----------\r\n",
      "2020-05-19 17:15:52 Epoch 9/60\r\n",
      "2020-05-19 17:17:29 Training Loss: 27.5504\r\n",
      "2020-05-19 17:17:29 ----------\r\n",
      "2020-05-19 17:17:29 Epoch 10/60\r\n",
      "2020-05-19 17:19:06 Training Loss: 26.6293\r\n",
      "2020-05-19 17:19:06 ----------\r\n",
      "2020-05-19 17:19:06 Epoch 11/60\r\n",
      "2020-05-19 17:20:42 Training Loss: 25.7315\r\n",
      "2020-05-19 17:20:42 ----------\r\n",
      "2020-05-19 17:20:42 Epoch 12/60\r\n",
      "2020-05-19 17:22:19 Training Loss: 24.8522\r\n",
      "2020-05-19 17:22:19 ----------\r\n",
      "2020-05-19 17:22:19 Epoch 13/60\r\n",
      "2020-05-19 17:23:56 Training Loss: 23.9629\r\n",
      "2020-05-19 17:23:56 ----------\r\n",
      "2020-05-19 17:23:56 Epoch 14/60\r\n",
      "2020-05-19 17:25:33 Training Loss: 23.1219\r\n",
      "2020-05-19 17:25:33 ----------\r\n",
      "2020-05-19 17:25:33 Epoch 15/60\r\n",
      "2020-05-19 17:27:09 Training Loss: 22.2719\r\n",
      "2020-05-19 17:27:09 ----------\r\n",
      "2020-05-19 17:27:09 Epoch 16/60\r\n",
      "2020-05-19 17:28:46 Training Loss: 21.4299\r\n",
      "2020-05-19 17:28:46 ----------\r\n",
      "2020-05-19 17:28:46 Epoch 17/60\r\n",
      "2020-05-19 17:30:23 Training Loss: 20.5923\r\n",
      "2020-05-19 17:30:23 ----------\r\n",
      "2020-05-19 17:30:23 Epoch 18/60\r\n",
      "2020-05-19 17:32:00 Training Loss: 19.7814\r\n",
      "2020-05-19 17:32:00 ----------\r\n",
      "2020-05-19 17:32:00 Epoch 19/60\r\n",
      "2020-05-19 17:33:37 Training Loss: 18.9996\r\n",
      "2020-05-19 17:33:37 ----------\r\n",
      "2020-05-19 17:33:37 Epoch 20/60\r\n",
      "2020-05-19 17:35:13 Training Loss: 18.2212\r\n",
      "2020-05-19 17:37:07 Testing: top1:74.73 top5:88.51 top10:91.57 mAP:53.78\r\n",
      "2020-05-19 17:37:07 ----------\r\n",
      "2020-05-19 17:37:07 Epoch 21/60\r\n",
      "2020-05-19 17:38:44 Training Loss: 17.4436\r\n",
      "2020-05-19 17:38:44 ----------\r\n",
      "2020-05-19 17:38:44 Epoch 22/60\r\n",
      "2020-05-19 17:40:21 Training Loss: 16.7353\r\n",
      "2020-05-19 17:40:21 ----------\r\n",
      "2020-05-19 17:40:21 Epoch 23/60\r\n",
      "2020-05-19 17:41:57 Training Loss: 16.0471\r\n",
      "2020-05-19 17:41:57 ----------\r\n",
      "2020-05-19 17:41:57 Epoch 24/60\r\n",
      "2020-05-19 17:43:34 Training Loss: 15.3267\r\n",
      "2020-05-19 17:43:34 ----------\r\n",
      "2020-05-19 17:43:34 Epoch 25/60\r\n",
      "2020-05-19 17:45:11 Training Loss: 14.6341\r\n",
      "2020-05-19 17:45:11 ----------\r\n",
      "2020-05-19 17:45:11 Epoch 26/60\r\n",
      "2020-05-19 17:46:48 Training Loss: 14.0153\r\n",
      "2020-05-19 17:46:48 ----------\r\n",
      "2020-05-19 17:46:48 Epoch 27/60\r\n",
      "2020-05-19 17:48:25 Training Loss: 13.3344\r\n",
      "2020-05-19 17:48:25 ----------\r\n",
      "2020-05-19 17:48:25 Epoch 28/60\r\n",
      "2020-05-19 17:50:02 Training Loss: 12.6978\r\n",
      "2020-05-19 17:50:02 ----------\r\n",
      "2020-05-19 17:50:02 Epoch 29/60\r\n",
      "2020-05-19 17:51:38 Training Loss: 12.1363\r\n",
      "2020-05-19 17:51:38 ----------\r\n",
      "2020-05-19 17:51:38 Epoch 30/60\r\n",
      "2020-05-19 17:53:15 Training Loss: 11.5543\r\n",
      "2020-05-19 17:53:15 ----------\r\n",
      "2020-05-19 17:53:15 Epoch 31/60\r\n",
      "2020-05-19 17:54:52 Training Loss: 11.0200\r\n",
      "2020-05-19 17:54:52 ----------\r\n",
      "2020-05-19 17:54:52 Epoch 32/60\r\n",
      "2020-05-19 17:56:29 Training Loss: 10.4736\r\n",
      "2020-05-19 17:56:29 ----------\r\n",
      "2020-05-19 17:56:29 Epoch 33/60\r\n",
      "2020-05-19 17:58:06 Training Loss: 9.9471\r\n",
      "2020-05-19 17:58:06 ----------\r\n",
      "2020-05-19 17:58:06 Epoch 34/60\r\n",
      "2020-05-19 17:59:45 Training Loss: 9.4985\r\n",
      "2020-05-19 17:59:45 ----------\r\n",
      "2020-05-19 17:59:45 Epoch 35/60\r\n",
      "2020-05-19 18:01:22 Training Loss: 9.0358\r\n",
      "2020-05-19 18:01:22 ----------\r\n",
      "2020-05-19 18:01:22 Epoch 36/60\r\n",
      "2020-05-19 18:02:59 Training Loss: 8.5953\r\n",
      "2020-05-19 18:02:59 ----------\r\n",
      "2020-05-19 18:02:59 Epoch 37/60\r\n",
      "2020-05-19 18:04:36 Training Loss: 8.1373\r\n",
      "2020-05-19 18:04:36 ----------\r\n",
      "2020-05-19 18:04:36 Epoch 38/60\r\n",
      "2020-05-19 18:06:14 Training Loss: 7.8017\r\n",
      "2020-05-19 18:06:14 ----------\r\n",
      "2020-05-19 18:06:14 Epoch 39/60\r\n",
      "2020-05-19 18:07:51 Training Loss: 7.3619\r\n",
      "2020-05-19 18:07:51 ----------\r\n",
      "2020-05-19 18:07:51 Epoch 40/60\r\n",
      "2020-05-19 18:09:28 Training Loss: 7.0233\r\n",
      "2020-05-19 18:11:21 Testing: top1:77.67 top5:90.23 top10:93.32 mAP:56.40\r\n",
      "2020-05-19 18:11:21 ----------\r\n",
      "2020-05-19 18:11:21 Epoch 41/60\r\n",
      "2020-05-19 18:12:58 Training Loss: 6.7176\r\n",
      "2020-05-19 18:12:58 ----------\r\n",
      "2020-05-19 18:12:58 Epoch 42/60\r\n",
      "2020-05-19 18:14:35 Training Loss: 6.3759\r\n",
      "2020-05-19 18:14:35 ----------\r\n",
      "2020-05-19 18:14:35 Epoch 43/60\r\n",
      "2020-05-19 18:16:12 Training Loss: 6.0709\r\n",
      "2020-05-19 18:16:12 ----------\r\n",
      "2020-05-19 18:16:12 Epoch 44/60\r\n",
      "2020-05-19 18:17:49 Training Loss: 5.6896\r\n",
      "2020-05-19 18:17:49 ----------\r\n",
      "2020-05-19 18:17:49 Epoch 45/60\r\n",
      "2020-05-19 18:19:27 Training Loss: 5.4191\r\n",
      "2020-05-19 18:19:27 ----------\r\n",
      "2020-05-19 18:19:27 Epoch 46/60\r\n",
      "2020-05-19 18:21:04 Training Loss: 5.1275\r\n",
      "2020-05-19 18:21:04 ----------\r\n",
      "2020-05-19 18:21:04 Epoch 47/60\r\n",
      "2020-05-19 18:22:40 Training Loss: 4.9116\r\n",
      "2020-05-19 18:22:40 ----------\r\n",
      "2020-05-19 18:22:40 Epoch 48/60\r\n",
      "2020-05-19 18:24:18 Training Loss: 4.6863\r\n",
      "2020-05-19 18:24:18 ----------\r\n",
      "2020-05-19 18:24:18 Epoch 49/60\r\n",
      "2020-05-19 18:25:54 Training Loss: 4.4307\r\n",
      "2020-05-19 18:25:54 ----------\r\n",
      "2020-05-19 18:25:54 Epoch 50/60\r\n",
      "2020-05-19 18:27:32 Training Loss: 4.2405\r\n",
      "2020-05-19 18:27:32 ----------\r\n",
      "2020-05-19 18:27:32 Epoch 51/60\r\n",
      "2020-05-19 18:29:09 Training Loss: 3.9591\r\n",
      "2020-05-19 18:29:09 ----------\r\n",
      "2020-05-19 18:29:09 Epoch 52/60\r\n",
      "2020-05-19 18:30:46 Training Loss: 3.7269\r\n",
      "2020-05-19 18:30:46 ----------\r\n",
      "2020-05-19 18:30:46 Epoch 53/60\r\n",
      "2020-05-19 18:32:23 Training Loss: 3.5736\r\n",
      "2020-05-19 18:32:23 ----------\r\n",
      "2020-05-19 18:32:23 Epoch 54/60\r\n",
      "2020-05-19 18:34:00 Training Loss: 3.4126\r\n",
      "2020-05-19 18:34:00 ----------\r\n",
      "2020-05-19 18:34:00 Epoch 55/60\r\n",
      "2020-05-19 18:35:38 Training Loss: 3.2011\r\n",
      "2020-05-19 18:35:38 ----------\r\n",
      "2020-05-19 18:35:38 Epoch 56/60\r\n",
      "2020-05-19 18:37:15 Training Loss: 3.0719\r\n",
      "2020-05-19 18:37:15 ----------\r\n",
      "2020-05-19 18:37:15 Epoch 57/60\r\n",
      "2020-05-19 18:38:52 Training Loss: 2.8921\r\n",
      "2020-05-19 18:38:52 ----------\r\n",
      "2020-05-19 18:38:52 Epoch 58/60\r\n",
      "2020-05-19 18:40:29 Training Loss: 2.7552\r\n",
      "2020-05-19 18:40:29 ----------\r\n",
      "2020-05-19 18:40:29 Epoch 59/60\r\n",
      "2020-05-19 18:42:06 Training Loss: 2.6321\r\n",
      "2020-05-19 18:42:06 ----------\r\n",
      "2020-05-19 18:42:06 Epoch 60/60\r\n",
      "2020-05-19 18:43:43 Training Loss: 2.4767\r\n",
      "2020-05-19 18:45:39 Testing: top1:80.64 top5:91.78 top10:94.27 mAP:60.47\r\n",
      "2020-05-19 18:45:39 ----------\r\n",
      "2020-05-19 18:45:39 Training complete in 102m 42s\r\n"
     ]
    }
   ],
   "source": [
    "!python main.py \\\n",
    "    --experiment=PCB_p6 \\\n",
    "    --dataset_path=/kaggle/input/market1501/Market-1501-v15.09.15 \\\n",
    "\n",
    "# !python main.py \\\n",
    "# --experiment=PCB_p6 \\\n",
    "# --dataset_path=/kaggle/input/market1501/Market-1501-v15.09.15 \\\n",
    "# --epoch=1 "
   ]
  },
  {
   "cell_type": "code",
   "execution_count": 5,
   "metadata": {},
   "outputs": [
    {
     "name": "stdout",
     "output_type": "stream",
     "text": [
      "2020-05-19 18:45:47 {'experiment': 'PCB_p6', 'save_path': './experiments', 'which_epoch': 'final', 'checkpoint': 'experiments/Market1501', 'dataset': 'Occluded_REID', 'dataset_path': '/kaggle/input/occluded-reid', 'batch_size': 512, 'share_conv': False}\r\n",
      "2020-05-19 18:46:03 Testing: top1:35.30 top5:52.30 top10:60.80 mAP:31.41\r\n"
     ]
    }
   ],
   "source": [
    "!python test.py \\\n",
    "    --dataset=Occluded_REID \\\n",
    "    --dataset_path=/kaggle/input/occluded-reid \\\n",
    "    --checkpoint=experiments/Market1501 "
   ]
  },
  {
   "cell_type": "markdown",
   "execution_count": null,
   "metadata": {},
   "source": [
    "# clean the result"
   ]
  },
  {
   "cell_type": "code",
   "execution_count": 6,
   "metadata": {},
   "outputs": [],
   "source": [
    "# !tar zcf ../experiments.tar experiments\n",
    "# !rm -rf   experiments*  project_result*"
   ]
  }
 ],
 "metadata": {
  "kernelspec": {
   "display_name": "Python 3",
   "language": "python",
   "name": "python3"
  },
  "language_info": {
   "codemirror_mode": {
    "name": "ipython",
    "version": 3
   },
   "file_extension": ".py",
   "mimetype": "text/x-python",
   "name": "python",
   "nbconvert_exporter": "python",
   "pygments_lexer": "ipython3",
   "version": "3.7.6"
  }
 },
 "nbformat": 4,
 "nbformat_minor": 4
}
